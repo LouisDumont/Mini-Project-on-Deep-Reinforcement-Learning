{
 "cells": [
  {
   "cell_type": "markdown",
   "metadata": {},
   "source": [
    "**You may need to install [OpenCV](https://pypi.python.org/pypi/opencv-python) and [scikit-video](http://www.scikit-video.org/stable/).**"
   ]
  },
  {
   "cell_type": "code",
   "execution_count": 67,
   "metadata": {},
   "outputs": [
    {
     "name": "stdout",
     "output_type": "stream",
     "text": [
      "2.1.0\n"
     ]
    }
   ],
   "source": [
    "import keras\n",
    "import numpy as np\n",
    "import io\n",
    "import base64\n",
    "from IPython.display import HTML\n",
    "import skvideo.io\n",
    "import cv2\n",
    "import json\n",
    "import random\n",
    "import matplotlib.pyplot as plt\n",
    "\n",
    "import tensorflow as tf\n",
    "from keras.models import Sequential,model_from_json\n",
    "from keras.layers.core import Dense\n",
    "from keras.optimizers import sgd, adam\n",
    "from keras.layers import Conv2D, MaxPooling2D, Activation, AveragePooling2D,Reshape,BatchNormalization\n",
    "# tf.enable_eager_execution() # Allows to get numpy our of tensor, but breaks the gradients\n",
    "print(tf.__version__)"
   ]
  },
  {
   "cell_type": "markdown",
   "metadata": {},
   "source": [
    "# MiniProject on Deep Reinforcement Learning"
   ]
  },
  {
   "cell_type": "markdown",
   "metadata": {},
   "source": [
    "__Notations__: $E_p$ is the expectation under probability $p$. Please justify each of your answer and widely comment your code."
   ]
  },
  {
   "cell_type": "markdown",
   "metadata": {},
   "source": [
    "# Context"
   ]
  },
  {
   "cell_type": "markdown",
   "metadata": {},
   "source": [
    "In a reinforcement learning algorithm, we modelize each step $t$ as an action $a_t$ obtained from a state $s_t$, i.e. $\\{(a_{t},s_{t})_{t\\leq T}\\}$ having the Markov property. We consider a discount factor $\\gamma \\in [0,1]$ that ensures convergence. The goal is to find among all the policies $\\pi$, one that maximizes the expected reward:\n",
    "\n",
    "\\begin{equation*}\n",
    "R(\\pi)=\\sum_{t\\leq T}E_{p^{\\pi}}[\\gamma^t r(s_{t},a_{t})] \\> ,\n",
    "\\end{equation*}\n",
    "\n",
    "where: \n",
    "\\begin{equation*}p^{\\pi}(a_{0},a_{1},s_{1},...,a_{T},s_{T})=p(a_{0})\\prod_{t=1}^{T}\\pi(a_{t}|s_{t})p(s_{t+1}|s_{t},a_{t}) \\> .\n",
    "\\end{equation*}\n",
    "\n",
    "We note the $Q$-function:\n",
    "\n",
    "\\begin{equation*}Q^\\pi(s,a)=E_{p^{\\pi}}[\\sum_{t\\leq T}\\gamma^{t}r(s_{t},a_{t})|s_{0}=s,a_{0}=a] \\> .\n",
    "\\end{equation*}\n",
    "\n",
    "Thus, the optimal Q function is:\n",
    "\\begin{equation*}\n",
    "Q^*(s,a)=\\max_{\\pi}Q^\\pi(s,a) \\> .\n",
    "\\end{equation*}\n",
    "\n",
    "In this project, we will apply the deep reinforcement learning techniques to a simple game: an agent will have to learn from scratch a policy that will permit it maximizing a reward."
   ]
  },
  {
   "cell_type": "markdown",
   "metadata": {},
   "source": [
    "## The environment, the agent and the game"
   ]
  },
  {
   "cell_type": "markdown",
   "metadata": {},
   "source": [
    "### The environment"
   ]
  },
  {
   "cell_type": "markdown",
   "metadata": {},
   "source": [
    "```Environment``` is an abstract class that represents the states, rewards, and actions to obtain the new state."
   ]
  },
  {
   "cell_type": "code",
   "execution_count": 2,
   "metadata": {},
   "outputs": [],
   "source": [
    "class Environment(object):\n",
    "    def __init__(self):\n",
    "        pass\n",
    "\n",
    "    def act(self, act):\n",
    "        \"\"\"\n",
    "        One can act on the environment and obtain its reaction:\n",
    "        - the new state\n",
    "        - the reward of the new state\n",
    "        - should we continue the game?\n",
    "\n",
    "        :return: state, reward, game_over\n",
    "        \"\"\"\n",
    "        pass\n",
    "\n",
    "\n",
    "    def reset(self):\n",
    "        \"\"\"\n",
    "        Reinitialize the environment to a random state and returns\n",
    "        the original state\n",
    "\n",
    "        :return: state\n",
    "        \"\"\"\n",
    "        pass\n",
    "    \n",
    "    def draw(self):\n",
    "        \"\"\"\n",
    "        Visualize in the console or graphically the current state\n",
    "        \"\"\"\n",
    "        pass"
   ]
  },
  {
   "cell_type": "markdown",
   "metadata": {},
   "source": [
    "The method ```act``` allows to act on the environment at a given state $s_t$ (stored internally), via action $a_t$. The method will return the new state $s_{t+1}$, the reward $r(s_{t},a_{t})$ and determines if $t\\leq T$ (*game_over*).\n",
    "\n",
    "The method ```reset``` simply reinitializes the environment to a random state $s_0$.\n",
    "\n",
    "The method ```draw``` displays the current state $s_t$ (this is useful to check the behavior of the Agent).\n",
    "\n",
    "We modelize $s_t$ as a tensor, while $a_t$ is an integer."
   ]
  },
  {
   "cell_type": "markdown",
   "metadata": {},
   "source": [
    "### The Agent"
   ]
  },
  {
   "cell_type": "markdown",
   "metadata": {},
   "source": [
    "The goal of the ```Agent``` is to interact with the ```Environment``` by proposing actions $a_t$ obtained from a given state $s_t$ to attempt to maximize its __reward__ $r(s_t,a_t)$. We propose the following abstract class:"
   ]
  },
  {
   "cell_type": "code",
   "execution_count": 3,
   "metadata": {},
   "outputs": [],
   "source": [
    "class Agent(object):\n",
    "    def __init__(self, epsilon=0.1, n_action=4):\n",
    "        self.epsilon = epsilon\n",
    "        self.n_action = n_action\n",
    "    \n",
    "    def set_epsilon(self,e):\n",
    "        self.epsilon = e\n",
    "\n",
    "    def act(self,s,train=True):\n",
    "        \"\"\" This function should return the next action to do:\n",
    "        an integer between 0 and 4 (not included) with a random exploration of epsilon\"\"\"\n",
    "        if train:\n",
    "            if np.random.rand() <= self.epsilon:\n",
    "                a = np.random.randint(0, self.n_action, size=1)[0]\n",
    "            else:\n",
    "                a = self.learned_act(s)\n",
    "        else: # in some cases, this can improve the performance.. remove it if poor performances\n",
    "            a = self.learned_act(s)\n",
    "\n",
    "        return a\n",
    "\n",
    "    def learned_act(self,s):\n",
    "        \"\"\" Act via the policy of the agent, from a given state s\n",
    "        it proposes an action a\"\"\"\n",
    "        pass\n",
    "\n",
    "    def reinforce(self, s, n_s, a, r, game_over_):\n",
    "        \"\"\" This function is the core of the learning algorithm. \n",
    "        It takes as an input the current state s_, the next state n_s_\n",
    "        the action a_ used to move from s_ to n_s_ and the reward r_.\n",
    "        \n",
    "        Its goal is to learn a policy.\n",
    "        \"\"\"\n",
    "        pass\n",
    "\n",
    "    def save(self):\n",
    "        \"\"\" This function returns basic stats if applicable: the\n",
    "        loss and/or the model\"\"\"\n",
    "        pass\n",
    "\n",
    "    def load(self):\n",
    "        \"\"\" This function allows to restore a model\"\"\"\n",
    "        pass"
   ]
  },
  {
   "cell_type": "markdown",
   "metadata": {},
   "source": [
    "***\n",
    "__Question 1__:\n",
    "Explain the function act. Why is ```epsilon``` essential?"
   ]
  },
  {
   "cell_type": "markdown",
   "metadata": {},
   "source": [
    "***\n",
    "In the function ```act```, the agent chooses which action to perform for the next step.\n",
    "\n",
    "In test mode, it will simply call learned_act and select the best action accordnig to what the agent has learned so far.\n",
    "\n",
    "In train mode, the action has $\\epsilon$ chances to take a random action and $1-\\epsilon$ chances to choose the best action according to what it has learned so far. Allowing for random exploration is essential to provent the agent from staying stuck in local minimas in the policy space, and somtimes try actions that are not optimal w.r.t the current learned policy. The basic idea is to introduce exploration not to imbalance it w.r.t exploitation."
   ]
  },
  {
   "cell_type": "markdown",
   "metadata": {},
   "source": [
    "(you can use Markdown and Latex)"
   ]
  },
  {
   "cell_type": "markdown",
   "metadata": {},
   "source": [
    "***\n",
    "### The Game"
   ]
  },
  {
   "cell_type": "markdown",
   "metadata": {},
   "source": [
    "The ```Agent``` and the ```Environment``` work in an interlaced way as in the following (take some time to understand this code as it is the core of the project)\n",
    "\n",
    "```python\n",
    "\n",
    "epoch = 300\n",
    "env = Environment()\n",
    "agent = Agent()\n",
    "\n",
    "\n",
    "# Number of won games\n",
    "score = 0\n",
    "loss = 0\n",
    "\n",
    "\n",
    "for e in range(epoch):\n",
    "    # At each epoch, we restart to a fresh game and get the initial state\n",
    "    state = env.reset()\n",
    "    # This assumes that the games will end\n",
    "    game_over = False\n",
    "\n",
    "    win = 0\n",
    "    lose = 0\n",
    "    \n",
    "    while not game_over:\n",
    "        # The agent performs an action\n",
    "        action = agent.act(state)\n",
    "\n",
    "        # Apply an action to the environment, get the next state, the reward\n",
    "        # and if the games end\n",
    "        prev_state = state\n",
    "        state, reward, game_over = env.act(action)\n",
    "\n",
    "        # Update the counters\n",
    "        if reward > 0:\n",
    "            win = win + reward\n",
    "        if reward < 0:\n",
    "            lose = lose -reward\n",
    "\n",
    "        # Apply the reinforcement strategy\n",
    "        loss = agent.reinforce(prev_state, state,  action, reward, game_over)\n",
    "\n",
    "    # Save as a mp4\n",
    "    if e % 10 == 0:\n",
    "        env.draw(e)\n",
    "\n",
    "    # Update stats\n",
    "    score += win-lose\n",
    "\n",
    "    print(\"Epoch {:03d}/{:03d} | Loss {:.4f} | Win/lose count {}/{} ({})\"\n",
    "          .format(e, epoch, loss, win, lose, win-lose))\n",
    "    agent.save()\n",
    "```"
   ]
  },
  {
   "cell_type": "markdown",
   "metadata": {},
   "source": [
    "# The game, *eat cheese*"
   ]
  },
  {
   "cell_type": "markdown",
   "metadata": {},
   "source": [
    "A rat runs on an island and tries to eat as much as possible. The island is subdivided into $N\\times N$ cells, in which there are cheese (+0.5) and poisonous cells (-1). The rat has a visibility of 2 cells (thus it can see $5^2$ cells). The rat is given a time $T$ to accumulate as much food as possible. It can perform 4 actions: going up, down, left, right. \n",
    "\n",
    "The goal is to code an agent to solve this task that will learn by trial and error. We propose the following environment:"
   ]
  },
  {
   "cell_type": "code",
   "execution_count": 4,
   "metadata": {},
   "outputs": [],
   "source": [
    "class Environment(object):\n",
    "    def __init__(self, grid_size=10, max_time=500, temperature=0.1):\n",
    "        grid_size = grid_size+4\n",
    "        self.grid_size = grid_size\n",
    "        self.max_time = max_time\n",
    "        self.temperature = temperature\n",
    "\n",
    "        #board on which one plays\n",
    "        self.board = np.zeros((grid_size,grid_size))\n",
    "        self.position = np.zeros((grid_size,grid_size))\n",
    "\n",
    "        # coordinate of the rat\n",
    "        self.x = 0\n",
    "        self.y = 1\n",
    "\n",
    "        # self time\n",
    "        self.t = 0\n",
    "\n",
    "        self.scale=16\n",
    "\n",
    "        self.to_draw = np.zeros((max_time+2, grid_size*self.scale, grid_size*self.scale, 3))\n",
    "\n",
    "\n",
    "    def draw(self,e):\n",
    "        skvideo.io.vwrite(str(e) + '.mp4', self.to_draw)\n",
    "\n",
    "    def get_frame(self,t):\n",
    "        b = np.zeros((self.grid_size,self.grid_size,3))+128\n",
    "        b[self.board>0,0] = 256\n",
    "        b[self.board < 0, 2] = 256\n",
    "        b[self.x,self.y,:]=256\n",
    "        b[-2:,:,:]=0\n",
    "        b[:,-2:,:]=0\n",
    "        b[:2,:,:]=0\n",
    "        b[:,:2,:]=0\n",
    "        \n",
    "        b =  cv2.resize(b, None, fx=self.scale, fy=self.scale, interpolation=cv2.INTER_NEAREST)\n",
    "\n",
    "        self.to_draw[t,:,:,:]=b\n",
    "\n",
    "\n",
    "    def act(self, action):\n",
    "        \"\"\"This function returns the new state, reward and decides if the\n",
    "        game ends.\"\"\"\n",
    "\n",
    "        self.get_frame(int(self.t))\n",
    "\n",
    "        self.position = np.zeros((self.grid_size, self.grid_size))\n",
    "\n",
    "        self.position[0:2,:]= -1\n",
    "        self.position[:,0:2] = -1\n",
    "        self.position[-2:, :] = -1\n",
    "        self.position[-2:, :] = -1\n",
    "\n",
    "        self.position[self.x, self.y] = 1\n",
    "        if action == 0:\n",
    "            if self.x == self.grid_size-3:\n",
    "                self.x = self.x-1\n",
    "            else:\n",
    "                self.x = self.x + 1\n",
    "        elif action == 1:\n",
    "            if self.x == 2:\n",
    "                self.x = self.x+1\n",
    "            else:\n",
    "                self.x = self.x-1\n",
    "        elif action == 2:\n",
    "            if self.y == self.grid_size - 3:\n",
    "                self.y = self.y - 1\n",
    "            else:\n",
    "                self.y = self.y + 1\n",
    "        elif action == 3:\n",
    "            if self.y == 2:\n",
    "                self.y = self.y + 1\n",
    "            else:\n",
    "                self.y = self.y - 1\n",
    "        else:\n",
    "            RuntimeError('Error: action not recognized')\n",
    "\n",
    "        self.t = self.t + 1\n",
    "        reward = self.board[self.x, self.y]\n",
    "        self.board[self.x, self.y] = 0\n",
    "        game_over = self.t > self.max_time\n",
    "        state = np.concatenate((self.board.reshape(self.grid_size, self.grid_size,1),\n",
    "                        self.position.reshape(self.grid_size, self.grid_size,1)),axis=2)\n",
    "        state = state[self.x-2:self.x+3,self.y-2:self.y+3,:]\n",
    "\n",
    "        return state, reward, game_over\n",
    "\n",
    "    def reset(self):\n",
    "        \"\"\"This function resets the game and returns the initial state\"\"\"\n",
    "\n",
    "        self.x = np.random.randint(3, self.grid_size-3, size=1)[0]\n",
    "        self.y = np.random.randint(3, self.grid_size-3, size=1)[0]\n",
    "\n",
    "\n",
    "        bonus = 0.5*np.random.binomial(1,self.temperature,size=self.grid_size**2)\n",
    "        bonus = bonus.reshape(self.grid_size,self.grid_size)\n",
    "\n",
    "        malus = -1.0*np.random.binomial(1,self.temperature,size=self.grid_size**2)\n",
    "        malus = malus.reshape(self.grid_size, self.grid_size)\n",
    "\n",
    "        self.to_draw = np.zeros((self.max_time+2, self.grid_size*self.scale, self.grid_size*self.scale, 3))\n",
    "\n",
    "\n",
    "        malus[bonus>0]=0\n",
    "\n",
    "        self.board = bonus + malus\n",
    "\n",
    "        self.position = np.zeros((self.grid_size, self.grid_size))\n",
    "        self.position[0:2,:]= -1\n",
    "        self.position[:,0:2] = -1\n",
    "        self.position[-2:, :] = -1\n",
    "        self.position[-2:, :] = -1\n",
    "        self.board[self.x,self.y] = 0\n",
    "        self.t = 0\n",
    "\n",
    "        state = np.concatenate((\n",
    "                               self.board.reshape(self.grid_size, self.grid_size,1),\n",
    "                        self.position.reshape(self.grid_size, self.grid_size,1)),axis=2)\n",
    "\n",
    "        state = state[self.x - 2:self.x + 3, self.y - 2:self.y + 3, :]\n",
    "        return state"
   ]
  },
  {
   "cell_type": "markdown",
   "metadata": {},
   "source": [
    "The following elements are important because they correspond to the hyper parameters for this project:"
   ]
  },
  {
   "cell_type": "code",
   "execution_count": 78,
   "metadata": {},
   "outputs": [],
   "source": [
    "# parameters\n",
    "size = 13\n",
    "T=200\n",
    "temperature=0.3\n",
    "epochs_train=100 # set small when debugging\n",
    "epochs_test=20 # set small when debugging\n",
    "\n",
    "# display videos\n",
    "def display_videos(name):\n",
    "    video = io.open(name, 'r+b').read()\n",
    "    encoded = base64.b64encode(video)\n",
    "    return '''<video alt=\"test\" controls>\n",
    "                <source src=\"data:video/mp4;base64,{0}\" type=\"video/mp4\" />\n",
    "             </video>'''.format(encoded.decode('ascii'))"
   ]
  },
  {
   "cell_type": "markdown",
   "metadata": {},
   "source": [
    "__Question 2__ Explain the use of the arrays ```position``` and ```board```."
   ]
  },
  {
   "cell_type": "markdown",
   "metadata": {},
   "source": [
    "The ```position``` array indicates the position of the agent, and the available directions for movement: since we do not want the agent to leave the grid, we set to -1 its limits, so that when the agnet receives the cropped cells (before choosing an action), it knows what directions are available to him.\n",
    "\n",
    "The ```board``` array indicates where the rewards and malus are located: the cells have a positive value if they contain a bonus and a negative value if they contain a malus. Both bonus and malus are randomly distributed accross the grid. Similarily to what is done with the ```position``` array, the grid created is artifucially larger than what it should be, to deal with edge cases."
   ]
  },
  {
   "cell_type": "markdown",
   "metadata": {},
   "source": []
  },
  {
   "cell_type": "markdown",
   "metadata": {},
   "source": [
    "## Random Agent"
   ]
  },
  {
   "cell_type": "markdown",
   "metadata": {},
   "source": [
    "***\n",
    "__Question 3__ Implement a random Agent (only ```learned_act``` needs to be implemented):"
   ]
  },
  {
   "cell_type": "code",
   "execution_count": 37,
   "metadata": {},
   "outputs": [],
   "source": [
    "class RandomAgent(Agent):\n",
    "    def __init__(self):\n",
    "        super(RandomAgent, self).__init__()\n",
    "        pass\n",
    "\n",
    "    def learned_act(self, s):\n",
    "        # The adjent acts randomly\n",
    "        a = np.random.randint(0, self.n_action, size=1)[0]"
   ]
  },
  {
   "cell_type": "markdown",
   "metadata": {},
   "source": [
    "***\n",
    "***\n",
    "__Question 4__ Visualize the game moves. You need to fill in the following function for the evaluation:"
   ]
  },
  {
   "cell_type": "code",
   "execution_count": 38,
   "metadata": {},
   "outputs": [],
   "source": [
    "def test(agent,env,epochs,prefix=''):\n",
    "    # Number of won games\n",
    "    score = 0\n",
    "        \n",
    "    for e in range(epochs):\n",
    "        \n",
    "        state = env.reset()\n",
    "        game_over = False\n",
    "        win = 0\n",
    "        lose = 0\n",
    "        \n",
    "        while not game_over:\n",
    "            action = agent.act(state)\n",
    "            previous_state = state\n",
    "            state, reward, game_over = env.act(action)\n",
    "            \n",
    "            if reward > 0:\n",
    "                win = win + reward\n",
    "            if reward < 0:\n",
    "                lose = lose - reward\n",
    "        \n",
    "        # Save as a mp4\n",
    "        env.draw(prefix+str(e))\n",
    "\n",
    "        # Update stats\n",
    "        score = score + win-lose\n",
    "\n",
    "        print(\"Win/lose count {}/{}. Average score ({})\"\n",
    "              .format(win, lose, score/(1+e)))\n",
    "    print('Final score: '+str(score/epochs))"
   ]
  },
  {
   "cell_type": "code",
   "execution_count": 39,
   "metadata": {},
   "outputs": [
    {
     "name": "stdout",
     "output_type": "stream",
     "text": [
      "Win/lose count 0.5/3.0. Average score (-2.5)\n",
      "Win/lose count 2.5/2.0. Average score (-1.0)\n",
      "Win/lose count 2.5/1.0. Average score (-0.16666666666666666)\n",
      "Win/lose count 3.0/6.0. Average score (-0.875)\n",
      "Win/lose count 0.5/2.0. Average score (-1.0)\n",
      "Win/lose count 0.5/0. Average score (-0.75)\n",
      "Win/lose count 2.0/3.0. Average score (-0.7857142857142857)\n",
      "Win/lose count 1.5/3.0. Average score (-0.875)\n",
      "Win/lose count 1.0/0. Average score (-0.6666666666666666)\n",
      "Win/lose count 2.5/4.0. Average score (-0.75)\n",
      "Win/lose count 2.0/1.0. Average score (-0.5909090909090909)\n",
      "Final score: -0.5909090909090909\n"
     ]
    },
    {
     "data": {
      "text/html": [
       "<video alt=\"test\" controls>\n",
       "                <source src=\"data:video/mp4;base64,AAAAIGZ0eXBpc29tAAACAGlzb21pc28yYXZjMW1wNDEAAAAIZnJlZQAAE6ZtZGF0AAACrQYF//+p3EXpvebZSLeWLNgg2SPu73gyNjQgLSBjb3JlIDE0OCByMjY0MyA1YzY1NzA0IC0gSC4yNjQvTVBFRy00IEFWQyBjb2RlYyAtIENvcHlsZWZ0IDIwMDMtMjAxNSAtIGh0dHA6Ly93d3cudmlkZW9sYW4ub3JnL3gyNjQuaHRtbCAtIG9wdGlvbnM6IGNhYmFjPTEgcmVmPTMgZGVibG9jaz0xOjA6MCBhbmFseXNlPTB4MzoweDExMyBtZT1oZXggc3VibWU9NyBwc3k9MSBwc3lfcmQ9MS4wMDowLjAwIG1peGVkX3JlZj0xIG1lX3JhbmdlPTE2IGNocm9tYV9tZT0xIHRyZWxsaXM9MSA4eDhkY3Q9MSBjcW09MCBkZWFkem9uZT0yMSwxMSBmYXN0X3Bza2lwPTEgY2hyb21hX3FwX29mZnNldD00IHRocmVhZHM9OCBsb29rYWhlYWRfdGhyZWFkcz0xIHNsaWNlZF90aHJlYWRzPTAgbnI9MCBkZWNpbWF0ZT0xIGludGVybGFjZWQ9MCBibHVyYXlfY29tcGF0PTAgY29uc3RyYWluZWRfaW50cmE9MCBiZnJhbWVzPTMgYl9weXJhbWlkPTIgYl9hZGFwdD0xIGJfYmlhcz0wIGRpcmVjdD0xIHdlaWdodGI9MSBvcGVuX2dvcD0wIHdlaWdodHA9MiBrZXlpbnQ9MjUwIGtleWludF9taW49MjUgc2NlbmVjdXQ9NDAgaW50cmFfcmVmcmVzaD0wIHJjX2xvb2thaGVhZD00MCByYz1jcmYgbWJ0cmVlPTEgY3JmPTIzLjAgcWNvbXA9MC42MCBxcG1pbj0wIHFwbWF4PTY5IHFwc3RlcD00IGlwX3JhdGlvPTEuNDAgYXE9MToxLjAwAIAAAALPZYiEADv//vb8/AptUwndP/9P+VxN2UIE1zAALTEAIgTYlI6+z4vwKZrZf8CiWgMX/3cf/k/TMwDGxiS6dmJ/iI+dhPN+BaeytVptHGbtS4gE5UnxM++1mW3mMqqHQsb+UlD/QMHFSjlF63fqZCVrgWpVsjwzMGfErDQfKmgbhaJ0/6lDCQnVpEb7VhF+oxyVTZwEfpx3HYJY9ggE+EuVgilxl/pUXfCheLQgPSJJ04xAaPWkHdLpg1traYKPJ/6TJRLXGpbyEBB1UPbDSalV8dTX/QRr1Q5pIBarvNxoT+qj9PIBfuOH/Paaxb8JNorCMBLbsvTxRje3z2s6jfxGAj7tDYc5AElUKk0oWc2NB0UMLc1Q+9Vbx9yR91yS/ETHC3PDge+D8IaBNblIkD+2byBsTFGze8ZnGvGTDP6ozO+TIvZ6vihsyU2Fwa9USg1PeJ4r0gkgw5paa1DL0pkb8uR6UjVIQVOJFKjN6cfE6WwReAVX01GVqa/PcAuTpPER0D4v+mNTRCCfd/cv4PkzXA8v6CTzZAB6jypt582DA/2Y4IX1TAh1WU55S5yFZqCPU5MJDwjqf+3AaO6w3tplu6dOJb8lHa3EbTgraNqWVnQzuj4L4ButD2JcDY3N3pcwTR8TlQZ2KCNu/upsgMBeYDX2RzGynYtsrheIHNt9i9NL/hF+xzdgMi19Rn5+V7l/k9tHHiyyvtvexzJOD60/4cGjP5/WSyvmXi1tEU6jj8Vd/qVu2KH9afPAyeFI4Tvv92E9shkx4amFjZ3WTTT9Y1YUmlMk23gAfObW+dCdTejW8xqZHyQjsy9rM62rycfFeoVOA0UcyYk8PgoDiNQNuNwt71ZpvZXH2nEwhrGqmzE6HauUR9zrhKzBuxqHi0C0mpeoJwwrEVTZZO9aVyhmc1EYJNmsNUGX0it31AKxT6puyYA7L3isXYAgHiAABoUAAAAVQZokbEO//qmWAAYqf3KDcXJLow5pAAAADUGeQniF/wAHQaldKREAAAAKAZ5hdEK/AADugAAAAA0BnmNqQr8ACfWPNxiJAAAAE0GaaEmoQWiZTAh3//6plgAAlYEAAAAMQZ6GRREsL/8AALKBAAAACgGepXRCvwAA7oEAAAAKAZ6nakK/AADugAAAABpBmqxJqEFsmUwId//+qZYAA+vtLwtQT+w24AAAAA9BnspFFSwv/wAEtnrXemEAAAANAZ7pdEK/AAZyRMKZYAAAAAoBnutqQr8AAO6AAAAAE0Ga8EmoQWyZTAh3//6plgAAlYEAAAAMQZ8ORRUsL/8AALKBAAAACgGfLXRCvwAA7oEAAAAKAZ8vakK/AADugAAAABNBmzRJqEFsmUwId//+qZYAAJWAAAAADEGfUkUVLC//AACygQAAAAoBn3F0Qr8AAO6AAAAACgGfc2pCvwAA7oAAAAATQZt4SahBbJlMCHf//qmWAACVgQAAAAxBn5ZFFSwv/wAAsoAAAAAKAZ+1dEK/AADugQAAAAoBn7dqQr8AAO6BAAAAE0GbvEmoQWyZTAh3//6plgAAlYAAAAAMQZ/aRRUsL/8AALKBAAAACgGf+XRCvwAA7oAAAAAKAZ/7akK/AADugQAAABNBm+BJqEFsmUwId//+qZYAAJWBAAAADEGeHkUVLC//AACygAAAAAoBnj10Qr8AAO6AAAAACgGeP2pCvwAA7oEAAAAcQZokSahBbJlMCHf//qmWAAPV8QgH9/O6QphPmAAAAA9BnkJFFSwv/wAEln+8AlEAAAANAZ5hdEK/AAZKS0nDYAAAAAoBnmNqQr8AAO6BAAAAE0GaaEmoQWyZTAh3//6plgAAlYEAAAAMQZ6GRRUsL/8AALKBAAAACgGepXRCvwAA7oEAAAAKAZ6nakK/AADugAAAABNBmqxJqEFsmUwId//+qZYAAJWAAAAADEGeykUVLC//AACygQAAAAoBnul0Qr8AAO6AAAAACgGe62pCvwAA7oAAAAAaQZrwSahBbJlMCHf//qmWAAKTpZXGaX9sVcEAAAAPQZ8ORRUsL/8AAxAeiB6RAAAADQGfLXRCvwAEFdP/tJEAAAAKAZ8vakK/AADugAAAABlBmzRJqEFsmUwId//+qZYAA+aZCTa9ejxMAAAAD0GfUkUVLC//AAS3Pum3RQAAAAoBn3F0Qr8AAO6AAAAADQGfc2pCvwAGcJaziGAAAAAaQZt4SahBbJlMCHf//qmWAAYqpBmgD0l9l1EAAAAPQZ+WRRUsL/8AB0E5pWpEAAAACgGftXRCvwAA7oEAAAANAZ+3akK/AAn1jzcYiQAAABNBm7xJqEFsmUwId//+qZYAAJWAAAAADEGf2kUVLC//AACygQAAAAoBn/l0Qr8AAO6AAAAACgGf+2pCvwAA7oEAAAATQZvgSahBbJlMCHf//qmWAACVgQAAAAxBnh5FFSwv/wAAsoAAAAAKAZ49dEK/AADugAAAAAoBnj9qQr8AAO6BAAAAG0GaJEmoQWyZTAh3//6plgAGMWTDX7n288d7RAAAAA9BnkJFFSwv/wAHQTmlakUAAAAKAZ5hdEK/AADugAAAAA0BnmNqQr8ACfNuBOZBAAAAE0GaaEmoQWyZTAh3//6plgAAlYEAAAAMQZ6GRRUsL/8AALKBAAAACgGepXRCvwAA7oEAAAAKAZ6nakK/AADugAAAABNBmqxJqEFsmUwId//+qZYAAJWAAAAADEGeykUVLC//AACygQAAAAoBnul0Qr8AAO6AAAAACgGe62pCvwAA7oAAAAAaQZrwSahBbJlMCHf//qmWAAPr7S/ndIUwnrEAAAAPQZ8ORRUsL/8ABLc+6bdFAAAACgGfLXRCvwAA7oEAAAANAZ8vakK/AAZx2puQiAAAABNBmzRJqEFsmUwId//+qZYAAJWAAAAADEGfUkUVLC//AACygQAAAAoBn3F0Qr8AAO6AAAAACgGfc2pCvwAA7oAAAAATQZt4SahBbJlMCHf//qmWAACVgQAAAAxBn5ZFFSwv/wAAsoAAAAAKAZ+1dEK/AADugQAAAAoBn7dqQr8AAO6BAAAAGkGbvEmoQWyZTAh3//6plgACl++rKrM2zFXAAAAAD0Gf2kUVLC//AAMQHogekQAAAA0Bn/l0Qr8ABBfMrWkgAAAACgGf+2pCvwAA7oEAAAAfQZvgSahBbJlMCHf//qmWAAKFzzIijd2LmWWfPtTEgQAAABBBnh5FFSwv/wAC/Ku7/PAwAAAACgGePXRCvwAA7oAAAAAQAZ4/akK/AAP4C851oYYkQQAAABNBmiRJqEFsmUwId//+qZYAAJWAAAAADEGeQkUVLC//AACygQAAAAoBnmF0Qr8AAO6AAAAACgGeY2pCvwAA7oEAAAATQZpoSahBbJlMCHf//qmWAACVgQAAAAxBnoZFFSwv/wAAsoEAAAAKAZ6ldEK/AADugQAAAAoBnqdqQr8AAO6AAAAAGkGarEmoQWyZTAh3//6plgABluLzEnR/edKAAAAAD0GeykUVLC//AAHbTZDa1QAAAAoBnul0Qr8AAO6AAAAADQGe62pCvwACjtbiEUAAAAAYQZrwSahBbJlMCHf//qmWAAGUucqMfrXZAAAAD0GfDkUVLC//AAHa+0PWoQAAAA0Bny10Qr8AAo6Z/+RRAAAACgGfL2pCvwAA7oAAAAAaQZs0SahBbJlMCHf//qmWAAJwiw3RiEc+3hAAAAAPQZ9SRRUsL/8AAujKS4vhAAAADQGfcXRCvwAD4xiD7+AAAAAKAZ9zakK/AADugAAAABNBm3hJqEFsmUwId//+qZYAAJWBAAAADEGflkUVLC//AACygAAAAAoBn7V0Qr8AAO6BAAAACgGft2pCvwAA7oEAAAATQZu8SahBbJlMCHf//qmWAACVgAAAAAxBn9pFFSwv/wAAsoEAAAAKAZ/5dEK/AADugAAAAAoBn/tqQr8AAO6BAAAAGkGb4EmoQWyZTAh3//6plgACgaWVxml/bFfBAAAAD0GeHkUVLC//AAL8qaGxzAAAAAoBnj10Qr8AAO6AAAAADQGeP2pCvwAD+Mz5+pkAAAATQZokSahBbJlMCHf//qmWAACVgAAAAAxBnkJFFSwv/wAAsoEAAAAKAZ5hdEK/AADugAAAAAoBnmNqQr8AAO6BAAAAE0GaaEmoQWyZTAh3//6plgAAlYEAAAAMQZ6GRRUsL/8AALKBAAAACgGepXRCvwAA7oEAAAAKAZ6nakK/AADugAAAABNBmqxJqEFsmUwId//+qZYAAJWAAAAADEGeykUVLC//AACygQAAAAoBnul0Qr8AAO6AAAAACgGe62pCvwAA7oAAAAATQZrwSahBbJlMCHf//qmWAACVgQAAAAxBnw5FFSwv/wAAsoEAAAAKAZ8tdEK/AADugQAAAAoBny9qQr8AAO6AAAAAGkGbNEmoQWyZTAh3//6plgAChc8yG2IN3ZRAAAAAD0GfUkUVLC//AAL8IpGq4QAAAA0Bn3F0Qr8AA/fE9ctwAAAACgGfc2pCvwAA7oAAAAATQZt4SahBbJlMCHf//qmWAACVgQAAAA9Bn5ZFFSwv/wAC/OQnxFcAAAANAZ+1dEK/AAP3xPXLcQAAAA0Bn7dqQr8AA/jPC6XpAAAAE0GbvEmoQWyZTAh3//6plgAAlYAAAAAMQZ/aRRUsL/8AALKBAAAACgGf+XRCvwAA7oAAAAAKAZ/7akK/AADugQAAABNBm+BJqEFsmUwId//+qZYAAJWBAAAADEGeHkUVLC//AACygAAAAAoBnj10Qr8AAO6AAAAACgGeP2pCvwAA7oEAAAAaQZokSahBbJlMCHf//qmWAAGogsrjNL+2QMAAAAAPQZ5CRRUsL/8AAfFNkNqNAAAACgGeYXRCvwAA7oAAAAANAZ5jakK/AAKy1uIMQQAAABNBmmhJqEFsmUwId//+qZYAAJWBAAAADEGehkUVLC//AACygQAAAAoBnqV0Qr8AAO6BAAAACgGep2pCvwAA7oAAAAATQZqsSahBbJlMCHf//qmWAACVgAAAAAxBnspFFSwv/wAAsoEAAAAKAZ7pdEK/AADugAAAAAoBnutqQr8AAO6AAAAAE0Ga8EmoQWyZTAh3//6plgAAlYEAAAAMQZ8ORRUsL/8AALKBAAAACgGfLXRCvwAA7oEAAAAKAZ8vakK/AADugAAAABNBmzRJqEFsmUwId//+qZYAAJWAAAAADEGfUkUVLC//AACygQAAAAoBn3F0Qr8AAO6AAAAACgGfc2pCvwAA7oAAAAATQZt4SahBbJlMCHf//qmWAACVgQAAAAxBn5ZFFSwv/wAAsoAAAAAKAZ+1dEK/AADugQAAAAoBn7dqQr8AAO6BAAAAE0GbvEmoQWyZTAh3//6plgAAlYAAAAAMQZ/aRRUsL/8AALKBAAAACgGf+XRCvwAA7oAAAAAKAZ/7akK/AADugQAAABpBm+BJqEFsmUwIb//+p4QABRvRP9SOjkYGwQAAAA9Bnh5FFSwv/wADEKtSungAAAAKAZ49dEK/AADugAAAAA0Bnj9qQr8ABBZXAqzBAAAAEkGaJEmoQWyZTAhv//6nhAABJwAAAAxBnkJFFSwv/wAAsoEAAAAKAZ5hdEK/AADugAAAAAoBnmNqQr8AAO6BAAAAEkGaaEmoQWyZTAhf//6MsAAEjQAAAAxBnoZFFSwv/wAAsoEAAAAKAZ6ldEK/AADugQAAAAoBnqdqQr8AAO6AAAAAGkGaqUuoQhBbJEYIKAfyAf2HgCFf/jhAABFwAAAMiW1vb3YAAABsbXZoZAAAAAAAAAAAAAAAAAAAA+gAAB+QAAEAAAEAAAAAAAAAAAAAAAABAAAAAAAAAAAAAAAAAAAAAQAAAAAAAAAAAAAAAAAAQAAAAAAAAAAAAAAAAAAAAAAAAAAAAAAAAAAAAAAAAAIAAAuzdHJhawAAAFx0a2hkAAAAAwAAAAAAAAAAAAAAAQAAAAAAAB+QAAAAAAAAAAAAAAAAAAAAAAABAAAAAAAAAAAAAAAAAAAAAQAAAAAAAAAAAAAAAAAAQAAAAAEQAAABEAAAAAAAJGVkdHMAAAAcZWxzdAAAAAAAAAABAAAfkAAABAAAAQAAAAALK21kaWEAAAAgbWRoZAAAAAAAAAAAAAAAAAAAMgAAAZQAVcQAAAAAAC1oZGxyAAAAAAAAAAB2aWRlAAAAAAAAAAAAAAAAVmlkZW9IYW5kbGVyAAAACtZtaW5mAAAAFHZtaGQAAAABAAAAAAAAAAAAAAAkZGluZgAAABxkcmVmAAAAAAAAAAEAAAAMdXJsIAAAAAEAAAqWc3RibAAAAJZzdHNkAAAAAAAAAAEAAACGYXZjMQAAAAAAAAABAAAAAAAAAAAAAAAAAAAAAAEQARAASAAAAEgAAAAAAAAAAQAAAAAAAAAAAAAAAAAAAAAAAAAAAAAAAAAAAAAAAAAAABj//wAAADBhdmNDAfQADf/hABdn9AANkZsoIhHQgAAAAwCAAAAZB4oUywEABmjr48RIRAAAABhzdHRzAAAAAAAAAAEAAADKAAACAAAAABRzdHNzAAAAAAAAAAEAAAABAAAGYGN0dHMAAAAAAAAAygAAAAEAAAQAAAAAAQAACgAAAAABAAAEAAAAAAEAAAAAAAAAAQAAAgAAAAABAAAKAAAAAAEAAAQAAAAAAQAAAAAAAAABAAACAAAAAAEAAAoAAAAAAQAABAAAAAABAAAAAAAAAAEAAAIAAAAAAQAACgAAAAABAAAEAAAAAAEAAAAAAAAAAQAAAgAAAAABAAAKAAAAAAEAAAQAAAAAAQAAAAAAAAABAAACAAAAAAEAAAoAAAAAAQAABAAAAAABAAAAAAAAAAEAAAIAAAAAAQAACgAAAAABAAAEAAAAAAEAAAAAAAAAAQAAAgAAAAABAAAKAAAAAAEAAAQAAAAAAQAAAAAAAAABAAACAAAAAAEAAAoAAAAAAQAABAAAAAABAAAAAAAAAAEAAAIAAAAAAQAACgAAAAABAAAEAAAAAAEAAAAAAAAAAQAAAgAAAAABAAAKAAAAAAEAAAQAAAAAAQAAAAAAAAABAAACAAAAAAEAAAoAAAAAAQAABAAAAAABAAAAAAAAAAEAAAIAAAAAAQAACgAAAAABAAAEAAAAAAEAAAAAAAAAAQAAAgAAAAABAAAKAAAAAAEAAAQAAAAAAQAAAAAAAAABAAACAAAAAAEAAAoAAAAAAQAABAAAAAABAAAAAAAAAAEAAAIAAAAAAQAACgAAAAABAAAEAAAAAAEAAAAAAAAAAQAAAgAAAAABAAAKAAAAAAEAAAQAAAAAAQAAAAAAAAABAAACAAAAAAEAAAoAAAAAAQAABAAAAAABAAAAAAAAAAEAAAIAAAAAAQAACgAAAAABAAAEAAAAAAEAAAAAAAAAAQAAAgAAAAABAAAKAAAAAAEAAAQAAAAAAQAAAAAAAAABAAACAAAAAAEAAAoAAAAAAQAABAAAAAABAAAAAAAAAAEAAAIAAAAAAQAACgAAAAABAAAEAAAAAAEAAAAAAAAAAQAAAgAAAAABAAAKAAAAAAEAAAQAAAAAAQAAAAAAAAABAAACAAAAAAEAAAoAAAAAAQAABAAAAAABAAAAAAAAAAEAAAIAAAAAAQAACgAAAAABAAAEAAAAAAEAAAAAAAAAAQAAAgAAAAABAAAKAAAAAAEAAAQAAAAAAQAAAAAAAAABAAACAAAAAAEAAAoAAAAAAQAABAAAAAABAAAAAAAAAAEAAAIAAAAAAQAACgAAAAABAAAEAAAAAAEAAAAAAAAAAQAAAgAAAAABAAAKAAAAAAEAAAQAAAAAAQAAAAAAAAABAAACAAAAAAEAAAoAAAAAAQAABAAAAAABAAAAAAAAAAEAAAIAAAAAAQAACgAAAAABAAAEAAAAAAEAAAAAAAAAAQAAAgAAAAABAAAKAAAAAAEAAAQAAAAAAQAAAAAAAAABAAACAAAAAAEAAAoAAAAAAQAABAAAAAABAAAAAAAAAAEAAAIAAAAAAQAACgAAAAABAAAEAAAAAAEAAAAAAAAAAQAAAgAAAAABAAAKAAAAAAEAAAQAAAAAAQAAAAAAAAABAAACAAAAAAEAAAoAAAAAAQAABAAAAAABAAAAAAAAAAEAAAIAAAAAAQAACgAAAAABAAAEAAAAAAEAAAAAAAAAAQAAAgAAAAABAAAKAAAAAAEAAAQAAAAAAQAAAAAAAAABAAACAAAAAAEAAAoAAAAAAQAABAAAAAABAAAAAAAAAAEAAAIAAAAAAQAACgAAAAABAAAEAAAAAAEAAAAAAAAAAQAAAgAAAAABAAAKAAAAAAEAAAQAAAAAAQAAAAAAAAABAAACAAAAAAEAAAoAAAAAAQAABAAAAAABAAAAAAAAAAEAAAIAAAAAAQAACgAAAAABAAAEAAAAAAEAAAAAAAAAAQAAAgAAAAABAAAKAAAAAAEAAAQAAAAAAQAAAAAAAAABAAACAAAAAAEAAAoAAAAAAQAABAAAAAABAAAAAAAAAAEAAAIAAAAAAQAACgAAAAABAAAEAAAAAAEAAAAAAAAAAQAAAgAAAAABAAAKAAAAAAEAAAQAAAAAAQAAAAAAAAABAAACAAAAAAEAAAoAAAAAAQAABAAAAAABAAAAAAAAAAEAAAIAAAAAAQAACgAAAAABAAAEAAAAAAEAAAAAAAAAAQAAAgAAAAABAAAKAAAAAAEAAAQAAAAAAQAAAAAAAAABAAACAAAAAAEAAAQAAAAAHHN0c2MAAAAAAAAAAQAAAAEAAADKAAAAAQAAAzxzdHN6AAAAAAAAAAAAAADKAAAFhAAAABkAAAARAAAADgAAABEAAAAXAAAAEAAAAA4AAAAOAAAAHgAAABMAAAARAAAADgAAABcAAAAQAAAADgAAAA4AAAAXAAAAEAAAAA4AAAAOAAAAFwAAABAAAAAOAAAADgAAABcAAAAQAAAADgAAAA4AAAAXAAAAEAAAAA4AAAAOAAAAIAAAABMAAAARAAAADgAAABcAAAAQAAAADgAAAA4AAAAXAAAAEAAAAA4AAAAOAAAAHgAAABMAAAARAAAADgAAAB0AAAATAAAADgAAABEAAAAeAAAAEwAAAA4AAAARAAAAFwAAABAAAAAOAAAADgAAABcAAAAQAAAADgAAAA4AAAAfAAAAEwAAAA4AAAARAAAAFwAAABAAAAAOAAAADgAAABcAAAAQAAAADgAAAA4AAAAeAAAAEwAAAA4AAAARAAAAFwAAABAAAAAOAAAADgAAABcAAAAQAAAADgAAAA4AAAAeAAAAEwAAABEAAAAOAAAAIwAAABQAAAAOAAAAFAAAABcAAAAQAAAADgAAAA4AAAAXAAAAEAAAAA4AAAAOAAAAHgAAABMAAAAOAAAAEQAAABwAAAATAAAAEQAAAA4AAAAeAAAAEwAAABEAAAAOAAAAFwAAABAAAAAOAAAADgAAABcAAAAQAAAADgAAAA4AAAAeAAAAEwAAAA4AAAARAAAAFwAAABAAAAAOAAAADgAAABcAAAAQAAAADgAAAA4AAAAXAAAAEAAAAA4AAAAOAAAAFwAAABAAAAAOAAAADgAAAB4AAAATAAAAEQAAAA4AAAAXAAAAEwAAABEAAAARAAAAFwAAABAAAAAOAAAADgAAABcAAAAQAAAADgAAAA4AAAAeAAAAEwAAAA4AAAARAAAAFwAAABAAAAAOAAAADgAAABcAAAAQAAAADgAAAA4AAAAXAAAAEAAAAA4AAAAOAAAAFwAAABAAAAAOAAAADgAAABcAAAAQAAAADgAAAA4AAAAXAAAAEAAAAA4AAAAOAAAAHgAAABMAAAAOAAAAEQAAABYAAAAQAAAADgAAAA4AAAAWAAAAEAAAAA4AAAAOAAAAHgAAABRzdGNvAAAAAAAAAAEAAAAwAAAAYnVkdGEAAABabWV0YQAAAAAAAAAhaGRscgAAAAAAAAAAbWRpcmFwcGwAAAAAAAAAAAAAAAAtaWxzdAAAACWpdG9vAAAAHWRhdGEAAAABAAAAAExhdmY1Ni40MC4xMDE=\" type=\"video/mp4\" />\n",
       "             </video>"
      ],
      "text/plain": [
       "<IPython.core.display.HTML object>"
      ]
     },
     "execution_count": 39,
     "metadata": {},
     "output_type": "execute_result"
    }
   ],
   "source": [
    "# Initialize the game\n",
    "env = Environment(grid_size=size, max_time=T,temperature=temperature)\n",
    "\n",
    "# Initialize the agent!\n",
    "agent = RandomAgent()\n",
    "\n",
    "test(agent,env,epochs_test,prefix='random')\n",
    "HTML(display_videos('random0.mp4'))"
   ]
  },
  {
   "cell_type": "markdown",
   "metadata": {},
   "source": [
    "***\n",
    "## DQN"
   ]
  },
  {
   "cell_type": "markdown",
   "metadata": {},
   "source": [
    "Let us assume here that $T=\\infty$.\n",
    "\n",
    "***\n",
    "__Question 5__ Let $\\pi$ be a policy, show that:\n",
    "\n",
    "\\begin{equation*}\n",
    "Q^{\\pi}(s,a)=E_{(s',a')\\sim p(.|s,a)}[r(s,a)+\\gamma Q^{\\pi}(s',a')]\n",
    "\\end{equation*}\n",
    "\n",
    "Then, show that for the optimal policy $\\pi^*$ (we assume its existence), the following holds: \n",
    "\n",
    "\\begin{equation*}\n",
    "Q^{*}(s,a)=E_{s'\\sim \\pi^*(.|s,a)}[r(s,a)+\\gamma\\max_{a'}Q^{*}(s',a')].\n",
    "\\end{equation*}\n",
    "Finally, deduce that a plausible objective is:\n",
    "\n",
    "\\begin{equation*}\n",
    "\\mathcal{L}(\\theta)=E_{s' \\sim \\pi^*(.|s,a)}\\Vert r+\\gamma\\max\\max_{a'}Q(s',a',\\theta)-Q(s,a,\\theta)\\Vert^{2}.\n",
    "\\end{equation*}\n",
    "\n",
    "\n"
   ]
  },
  {
   "cell_type": "markdown",
   "metadata": {},
   "source": [
    "***\n",
    "- Let us prove the first point:\n",
    "\\begin{align*}\n",
    "Q^\\pi(s,a) &= \\mathbb{E}_{p^\\pi}[\\sum_{t=0}^\\infty\\gamma^tr(s_t, a_t)|s_0=s, a_0=a]\\\\\n",
    "&= \\mathbb{E}_{p^\\pi}[r(s_0,a_0) + \\sum_{t=1}^\\infty\\gamma^tr(s_t, a_t)|s_0=s, a_0=a]\\\\\n",
    "&= r(s,a) + \\mathbb{E}_{p^\\pi}[\\sum_{t=1}^\\infty\\gamma^tr(s_t, a_t)|s_0=s, a_0=a]\\\\\n",
    "&= r(s,a) + \\mathbb{E}_{p^\\pi}[\\mathbb{E}_{p^\\pi}[\\sum_{t=1}^\\infty\\gamma^tr(s_t, a_t)|s_1,a_1]|s_0=s, a_0=a]\\\\\n",
    "&= r(s,a) + \\sum_{s',a'}p_\\pi(s',a'|s_0,a_0)\\mathbb{E}_{p^\\pi}[\\sum_{t=1}^\\infty\\gamma^tr(s_t, a_t)|s_1=s',a_1=a']\\\\\n",
    "&= r(s,a) + \\gamma\\sum_{s',a'}p_\\pi(s',a'|s_0,a_0)\\mathbb{E}_{p^\\pi}[\\sum_{t=1}^\\infty\\gamma^{t-1}tr(s_t, a_t)|s_1=s',a_1=a']\\\\\n",
    "&= r(s,a) + \\gamma\\sum_{s',a'}p_\\pi(s',a'|s_0,a_0)Q^\\pi(s',a')\\\\\n",
    "&= \\mathbb{E}_{p^\\pi}[r(s,a) + \\gamma Q^{\\pi}(s',a')]\n",
    "\\end{align*}\n",
    "\n",
    "- Then for the second point, applying the previous equality to $\\pi^*$ the optimal policy:\n",
    "\\begin{align*}\n",
    "Q^*(s,a) &= \\mathbb{E}_{s', a'\\sim p^{\\pi^*}}[r(s,a)+\\gamma Q^*(s',a')]\\\\\n",
    "&= \\mathbb{E}_{s'}[\\mathbb{E}_{a'\\sim\\pi^*}[r(s,a) + \\gamma Q^*(s', a')]]\\\\\n",
    "\\end{align*}\n",
    "By contradiction, suppose that there exist a state $s'$ and an action $a'$ such that $\\pi(a',s')>0$ where $Q^*(s', a')<\\max_a Q^*(s', a)$. Then take $\\hat{\\pi}$ a such that $\\hat{pi}(s,.)=\\pi^*(s,.)$ for $s\\neq s'$ and $\\hat{\\pi}(s',a)=\\mathbb{1}_{a=argmax_a Q^*(s', a)}$. We then have:\\\\\n",
    "\\begin{align*}\n",
    "\\mathbb{E}_{a'\\sim\\pi^*}[r(s,a) + \\gamma Q^*(s', a')]&<\\mathbb{E}_{a'\\sim\\hat{\\pi}}[r(s,a) + \\gamma Q^*(s', a')]\\\\\n",
    "\\mathbb{E}_{s'}[\\mathbb{E}_{a'\\sim\\pi^*}[r(s,a) + \\gamma Q^*(s', a')]]&<\\mathbb{E}_{s'}[\\mathbb{E}_{a'\\sim\\hat{\\pi}}[r(s,a) + \\gamma Q^*(s', a')]]\n",
    "\\end{align*}\n",
    "And thus $Q^*(s,a)<Q^{\\hat\\pi}$, which breaks the definition of $Q^*$.\n",
    "\n",
    "We thus have that $\\forall s, \\pi^*(s,a)=\\mathbb{1}_{a\\in argmax_{a'}}Q^*(s,a')$ and thus:\n",
    "\\begin{align*}\n",
    "Q^*(s,a) = \\mathbb{E}_{s'}[r(s,a) + \\gamma\\max_{a'}Q^*(s',a')]\n",
    "\\end{align*}\n",
    "\n",
    "- The intuition for the loss is then the following:\n",
    "\n",
    "We know that the best policy yields a Q-function that is stable by the optimal Bellman operator (for the Q-function) $\\mathcal{B}(f(s,a)) = r(s,a) + \\mathbb{E}_{s'}[\\max_{a'}f(s',a')]$. The distance between a Q-function and its image by the optimal Bellman operator is thus a mesure of how \"good\" (ie how close to the optimal solution) our function is.\n",
    "\n",
    "This distance is then squared to ensure that the problem we are trying to solve is convex.\n",
    "\n",
    "\n",
    "***"
   ]
  },
  {
   "cell_type": "markdown",
   "metadata": {},
   "source": []
  },
  {
   "cell_type": "markdown",
   "metadata": {},
   "source": [
    "***\n",
    "The DQN-learning algorithm relies on these derivations to train the parameters $\\theta$ of a Deep Neural Network:\n",
    "\n",
    "1. At the state $s_t$, select the action $a_t$ with best reward using $Q_t$ and store the results;\n",
    "\n",
    "2. Obtain the new state $s_{t+1}$ from the environment $p$;\n",
    "\n",
    "3. Store $(s_t,a_t,s_{t+1})$;\n",
    "\n",
    "4. Obtain $Q_{t+1}$ by minimizing  $\\mathcal{L}$ from a recovered batch from the previously stored results.\n",
    "\n",
    "***\n",
    "__Question 6__ Implement the class ```Memory``` that stores moves (in a replay buffer) via ```remember``` and provides a ```random_access``` to these. Specify a maximum memory size to avoid side effects. You can for example use a ```list()``` and set by default ```max_memory=100```."
   ]
  },
  {
   "cell_type": "code",
   "execution_count": 40,
   "metadata": {},
   "outputs": [],
   "source": [
    "class Memory(object):\n",
    "    def __init__(self, max_memory=100):\n",
    "        self.max_memory = max_memory\n",
    "        self.memory = list()\n",
    "\n",
    "    def remember(self, m):\n",
    "        self.memory.append(m)\n",
    "        if len(self.memory)>self.max_memory:\n",
    "            self.memory.pop(0)\n",
    "\n",
    "    def random_access(self):\n",
    "        index = random.randint(0, len(self.memory)-1)\n",
    "        return self.memory[index]"
   ]
  },
  {
   "cell_type": "markdown",
   "metadata": {},
   "source": [
    "***\n",
    "The pipeline we will use for training is given below:"
   ]
  },
  {
   "cell_type": "code",
   "execution_count": 137,
   "metadata": {},
   "outputs": [],
   "source": [
    "def train(agent,env,epoch,prefix=''):\n",
    "    # Number of won games\n",
    "    score = 0\n",
    "    loss = 0\n",
    "    scores = []\n",
    "\n",
    "    for e in range(epoch):\n",
    "        # At each epoch, we restart to a fresh game and get the initial state\n",
    "        state = env.reset()\n",
    "        # This assumes that the games will terminate\n",
    "        game_over = False\n",
    "\n",
    "        win = 0\n",
    "        lose = 0\n",
    "        win_count = 0\n",
    "        lose_count = 0\n",
    "        \n",
    "        while not game_over:\n",
    "            # The agent performs an action\n",
    "            action = agent.act(state)\n",
    "\n",
    "            # Apply an action to the environment, get the next state, the reward\n",
    "            # and if the games end\n",
    "            prev_state = state\n",
    "            state, reward, game_over = env.act(action)\n",
    "\n",
    "            # Update the counters\n",
    "            # win_count and lose_count counts the number of times we landed on good/bad cells\n",
    "            # To be able to compare exploration strategies to previous results\n",
    "            if reward > 0:\n",
    "                win_count += 1\n",
    "                win = win + reward\n",
    "            if reward < 0:\n",
    "                if reward < -0.5: lose_count += 1\n",
    "                lose = lose -reward\n",
    "\n",
    "            # Apply the reinforcement strategy\n",
    "            loss = agent.reinforce(prev_state, state,  action, reward, game_over)\n",
    "\n",
    "        # Save as a mp4\n",
    "        if e % 10 == 0:\n",
    "            env.draw(prefix+str(e))\n",
    "\n",
    "        # Update stats\n",
    "        score += win-lose\n",
    "        scores.append(win_count-lose_count)\n",
    "\n",
    "        print(\"Epoch {:03d}/{:03d} | Loss {:.4f} | Win/lose count {}/{} ({})\"\n",
    "              .format(e, epoch, loss, win, lose, win-lose))\n",
    "        agent.save(name_weights=prefix+'model.h5',name_model=prefix+'model.json')\n",
    "    return scores"
   ]
  },
  {
   "cell_type": "markdown",
   "metadata": {},
   "source": [
    "***\n",
    "__Question 7__ Implement the DQN training algorithm using a cascade of fully connected layers. You can use different learning rate, batch size or memory size parameters. In particular, the loss might oscillate while the player will start to win the games. You have to find a good criterium."
   ]
  },
  {
   "cell_type": "code",
   "execution_count": 138,
   "metadata": {},
   "outputs": [],
   "source": [
    "class DQN(Agent):\n",
    "    def __init__(self, grid_size,  epsilon = 0.1, memory_size=100, batch_size = 16,n_state=2):\n",
    "        super(DQN, self).__init__(epsilon = epsilon)\n",
    "\n",
    "        # Discount for Q learning\n",
    "        self.discount = 0.99\n",
    "        \n",
    "        self.grid_size = grid_size\n",
    "        \n",
    "        # number of state\n",
    "        self.n_state = n_state\n",
    "\n",
    "        # Memory\n",
    "        self.memory = Memory(memory_size)\n",
    "        \n",
    "        # Batch size when learning\n",
    "        self.batch_size = batch_size\n",
    "\n",
    "    def learned_act(self, s):\n",
    "        #input_ = tf.reshape(tf.convert_to_tensor(s,dtype=tf.float32), [1,5,5,2])\n",
    "        #print('Input shape in learned_act:', input_.shape)\n",
    "        #q_values = self.model(input_)\n",
    "        #print('Ouput shape in learned_act:', q_values.shape)\n",
    "        input_ = s.reshape(1,5,5,self.n_state)\n",
    "        q_values = self.model.predict(input_)\n",
    "        return np.argmax(q_values)\n",
    "\n",
    "    def reinforce(self, s_, n_s_, a_, r_, game_over_):\n",
    "        # Two steps: first memorize the states, second learn from the pool\n",
    "\n",
    "        self.memory.remember([s_, n_s_, a_, r_, game_over_])\n",
    "        \n",
    "        input_states = np.zeros((self.batch_size, 5,5,self.n_state))\n",
    "        target_q = np.zeros((self.batch_size, 4)) # 4 stands for the number of actions?\n",
    "        next_states = np.zeros((self.batch_size, 5,5,self.n_state))\n",
    "        actions = np.zeros((self.batch_size))\n",
    "        game_overs = np.zeros((self.batch_size))\n",
    "        rewards = np.zeros((self.batch_size))\n",
    "        \n",
    "        for i in range(self.batch_size):\n",
    "            \n",
    "            s_, n_s_, a_, r_, game_over = self.memory.random_access()\n",
    "            input_states[i] = s_\n",
    "            next_states[i] = n_s_\n",
    "            actions[i] = a_\n",
    "            game_overs[i] = game_over_\n",
    "            rewards[i] = r_\n",
    "            \n",
    "        #print('actions', actions)\n",
    "        target_q[:] = self.model.predict(input_states)\n",
    "        next_state_qs = self.model.predict(next_states)\n",
    "        best_next_state_qs = np.amax(next_state_qs, axis=1)\n",
    "        actions = actions.astype(int)\n",
    "        for i in range(self.batch_size):\n",
    "            target_q[i, actions[i]] = rewards[i] + (1-game_overs[i])*best_next_state_qs[i]\n",
    "        \n",
    "            \n",
    "        \n",
    "        ######## FILL IN # Did not find anything to add here\n",
    "        \n",
    "        # HINT: Clip the target to avoid exploiding gradients.. -- clipping is a bit tighter\n",
    "        target_q = np.clip(target_q, -3, 3)\n",
    "\n",
    "        l = self.model.train_on_batch(input_states, target_q)\n",
    "\n",
    "        return l\n",
    "\n",
    "    def save(self,name_weights='model.h5',name_model='model.json'):\n",
    "        self.model.save_weights(name_weights, overwrite=True)\n",
    "        with open(name_model, \"w\") as outfile:\n",
    "            json.dump(self.model.to_json(), outfile)\n",
    "            \n",
    "    def load(self,name_weights='model.h5',name_model='model.json'):\n",
    "        with open(name_model, \"r\") as jfile:\n",
    "            model = model_from_json(json.load(jfile))\n",
    "        model.load_weights(name_weights)\n",
    "        model.compile(\"sgd\", \"mse\")\n",
    "        self.model = model\n",
    "\n",
    "            \n",
    "class DQN_FC(DQN):\n",
    "    # Takes as input only the state, and returns one output per action (to be consistent with the code given)\n",
    "    def __init__(self, *args, lr=0.1,**kwargs):\n",
    "        super(DQN_FC, self).__init__( *args,**kwargs)\n",
    "        \n",
    "        # NN Model\n",
    "        \n",
    "        model = Sequential()\n",
    "        model.add(Reshape((5*5*self.n_state,), input_shape=(5,5,self.n_state,)))\n",
    "        model.add(Dense(32, input_dim=5*5*self.n_state, activation='relu'))\n",
    "        model.add(Dense(32, activation='relu'))\n",
    "        model.add(Dense(4, activation='linear'))\n",
    "        \n",
    "        model.compile(adam(lr=lr, decay=1e-4), \"mse\") # momentum=0.0\n",
    "        self.model = model\n",
    "        print(model.summary())\n",
    "        "
   ]
  },
  {
   "cell_type": "code",
   "execution_count": 139,
   "metadata": {
    "scrolled": true
   },
   "outputs": [
    {
     "name": "stdout",
     "output_type": "stream",
     "text": [
      "2.1.0\n",
      "Model: \"sequential_55\"\n",
      "_________________________________________________________________\n",
      "Layer (type)                 Output Shape              Param #   \n",
      "=================================================================\n",
      "reshape_55 (Reshape)         (None, 50)                0         \n",
      "_________________________________________________________________\n",
      "dense_131 (Dense)            (None, 32)                1632      \n",
      "_________________________________________________________________\n",
      "dense_132 (Dense)            (None, 32)                1056      \n",
      "_________________________________________________________________\n",
      "dense_133 (Dense)            (None, 4)                 132       \n",
      "=================================================================\n",
      "Total params: 2,820\n",
      "Trainable params: 2,820\n",
      "Non-trainable params: 0\n",
      "_________________________________________________________________\n",
      "None\n",
      "Epoch 000/100 | Loss 0.2623 | Win/lose count 2.5/3.0 (-0.5)\n",
      "Epoch 001/100 | Loss 0.2986 | Win/lose count 3.0/3.0 (0.0)\n",
      "Epoch 002/100 | Loss 0.3015 | Win/lose count 2.0/5.0 (-3.0)\n",
      "Epoch 003/100 | Loss 0.3141 | Win/lose count 1.5/3.0 (-1.5)\n",
      "Epoch 004/100 | Loss 0.4239 | Win/lose count 3.5/2.0 (1.5)\n",
      "Epoch 005/100 | Loss 0.6336 | Win/lose count 7.0/6.0 (1.0)\n",
      "Epoch 006/100 | Loss 0.9855 | Win/lose count 2.5/1.0 (1.5)\n",
      "Epoch 007/100 | Loss 0.9867 | Win/lose count 2.5/10.0 (-7.5)\n",
      "Epoch 008/100 | Loss 1.3019 | Win/lose count 4.5/3.0 (1.5)\n",
      "Epoch 009/100 | Loss 1.3468 | Win/lose count 2.0/3.0 (-1.0)\n",
      "Epoch 010/100 | Loss 1.5930 | Win/lose count 3.5/5.0 (-1.5)\n",
      "Epoch 011/100 | Loss 1.6960 | Win/lose count 2.0/7.0 (-5.0)\n",
      "Epoch 012/100 | Loss 1.7556 | Win/lose count 1.5/2.0 (-0.5)\n",
      "Epoch 013/100 | Loss 1.8344 | Win/lose count 8.5/7.0 (1.5)\n",
      "Epoch 014/100 | Loss 1.8473 | Win/lose count 2.0/4.0 (-2.0)\n",
      "Epoch 015/100 | Loss 1.8988 | Win/lose count 2.0/1.0 (1.0)\n",
      "Epoch 016/100 | Loss 1.9059 | Win/lose count 0.5/1.0 (-0.5)\n",
      "Epoch 017/100 | Loss 1.9364 | Win/lose count 1.5/3.0 (-1.5)\n",
      "Epoch 018/100 | Loss 2.0167 | Win/lose count 1.0/1.0 (0.0)\n",
      "Epoch 019/100 | Loss 1.8976 | Win/lose count 2.5/3.0 (-0.5)\n",
      "Epoch 020/100 | Loss 2.0966 | Win/lose count 3.0/6.0 (-3.0)\n",
      "Epoch 021/100 | Loss 2.0209 | Win/lose count 5.0/6.0 (-1.0)\n",
      "Epoch 022/100 | Loss 1.9633 | Win/lose count 1.0/1.0 (0.0)\n",
      "Epoch 023/100 | Loss 2.0718 | Win/lose count 5.0/3.0 (2.0)\n",
      "Epoch 024/100 | Loss 2.0183 | Win/lose count 1.5/3.0 (-1.5)\n",
      "Epoch 025/100 | Loss 1.9347 | Win/lose count 2.5/5.0 (-2.5)\n",
      "Epoch 026/100 | Loss 1.8455 | Win/lose count 1.5/2.0 (-0.5)\n",
      "Epoch 027/100 | Loss 1.9446 | Win/lose count 3.0/5.0 (-2.0)\n",
      "Epoch 028/100 | Loss 1.8730 | Win/lose count 2.0/2.0 (0.0)\n",
      "Epoch 029/100 | Loss 1.8862 | Win/lose count 1.5/5.0 (-3.5)\n",
      "Epoch 030/100 | Loss 1.8915 | Win/lose count 4.5/1.0 (3.5)\n",
      "Epoch 031/100 | Loss 1.8896 | Win/lose count 2.5/0 (2.5)\n",
      "Epoch 032/100 | Loss 2.0008 | Win/lose count 1.5/1.0 (0.5)\n",
      "Epoch 033/100 | Loss 1.9277 | Win/lose count 3.0/0 (3.0)\n",
      "Epoch 034/100 | Loss 2.0391 | Win/lose count 4.5/2.0 (2.5)\n",
      "Epoch 035/100 | Loss 2.1726 | Win/lose count 2.0/3.0 (-1.0)\n",
      "Epoch 036/100 | Loss 2.0325 | Win/lose count 4.5/2.0 (2.5)\n",
      "Epoch 037/100 | Loss 1.9793 | Win/lose count 2.0/2.0 (0.0)\n",
      "Epoch 038/100 | Loss 1.9229 | Win/lose count 3.0/2.0 (1.0)\n",
      "Epoch 039/100 | Loss 1.8837 | Win/lose count 1.5/3.0 (-1.5)\n",
      "Epoch 040/100 | Loss 2.0896 | Win/lose count 3.5/3.0 (0.5)\n",
      "Epoch 041/100 | Loss 1.9790 | Win/lose count 0.5/2.0 (-1.5)\n",
      "Epoch 042/100 | Loss 1.9057 | Win/lose count 1.5/4.0 (-2.5)\n",
      "Epoch 043/100 | Loss 2.0798 | Win/lose count 0.5/0 (0.5)\n",
      "Epoch 044/100 | Loss 2.0313 | Win/lose count 2.0/1.0 (1.0)\n",
      "Epoch 045/100 | Loss 1.9417 | Win/lose count 2.0/4.0 (-2.0)\n",
      "Epoch 046/100 | Loss 1.9394 | Win/lose count 2.0/3.0 (-1.0)\n",
      "Epoch 047/100 | Loss 1.9783 | Win/lose count 2.0/3.0 (-1.0)\n",
      "Epoch 048/100 | Loss 2.0259 | Win/lose count 2.5/3.0 (-0.5)\n",
      "Epoch 049/100 | Loss 1.9464 | Win/lose count 6.0/5.0 (1.0)\n",
      "Epoch 050/100 | Loss 2.0273 | Win/lose count 1.0/3.0 (-2.0)\n",
      "Epoch 051/100 | Loss 2.0221 | Win/lose count 4.0/7.0 (-3.0)\n",
      "Epoch 052/100 | Loss 1.9950 | Win/lose count 2.5/2.0 (0.5)\n",
      "Epoch 053/100 | Loss 1.9966 | Win/lose count 2.0/0 (2.0)\n",
      "Epoch 054/100 | Loss 1.9273 | Win/lose count 2.5/2.0 (0.5)\n",
      "Epoch 055/100 | Loss 1.9534 | Win/lose count 3.0/2.0 (1.0)\n",
      "Epoch 056/100 | Loss 1.9972 | Win/lose count 2.5/3.0 (-0.5)\n",
      "Epoch 057/100 | Loss 1.9088 | Win/lose count 4.0/3.0 (1.0)\n",
      "Epoch 058/100 | Loss 1.9016 | Win/lose count 2.0/2.0 (0.0)\n",
      "Epoch 059/100 | Loss 1.8066 | Win/lose count 4.0/4.0 (0.0)\n",
      "Epoch 060/100 | Loss 1.7816 | Win/lose count 3.0/1.0 (2.0)\n",
      "Epoch 061/100 | Loss 1.8341 | Win/lose count 3.0/2.0 (1.0)\n",
      "Epoch 062/100 | Loss 1.9374 | Win/lose count 1.5/2.0 (-0.5)\n",
      "Epoch 063/100 | Loss 1.7891 | Win/lose count 2.5/1.0 (1.5)\n",
      "Epoch 064/100 | Loss 1.9505 | Win/lose count 1.0/2.0 (-1.0)\n",
      "Epoch 065/100 | Loss 1.9211 | Win/lose count 3.5/1.0 (2.5)\n",
      "Epoch 066/100 | Loss 1.8855 | Win/lose count 1.5/3.0 (-1.5)\n",
      "Epoch 067/100 | Loss 1.9641 | Win/lose count 2.5/2.0 (0.5)\n",
      "Epoch 068/100 | Loss 1.9466 | Win/lose count 2.0/2.0 (0.0)\n",
      "Epoch 069/100 | Loss 2.0066 | Win/lose count 3.5/2.0 (1.5)\n",
      "Epoch 070/100 | Loss 1.9464 | Win/lose count 4.5/3.0 (1.5)\n",
      "Epoch 071/100 | Loss 1.9441 | Win/lose count 3.5/2.0 (1.5)\n",
      "Epoch 072/100 | Loss 1.8977 | Win/lose count 3.0/1.0 (2.0)\n",
      "Epoch 073/100 | Loss 1.8594 | Win/lose count 2.0/2.0 (0.0)\n",
      "Epoch 074/100 | Loss 1.9132 | Win/lose count 3.0/3.0 (0.0)\n",
      "Epoch 075/100 | Loss 1.8405 | Win/lose count 1.5/1.0 (0.5)\n",
      "Epoch 076/100 | Loss 1.7895 | Win/lose count 6.5/6.0 (0.5)\n",
      "Epoch 077/100 | Loss 1.8599 | Win/lose count 1.0/0 (1.0)\n",
      "Epoch 078/100 | Loss 1.8427 | Win/lose count 5.0/5.0 (0.0)\n",
      "Epoch 079/100 | Loss 1.8956 | Win/lose count 3.0/0 (3.0)\n",
      "Epoch 080/100 | Loss 1.8776 | Win/lose count 3.0/3.0 (0.0)\n",
      "Epoch 081/100 | Loss 1.7893 | Win/lose count 2.0/3.0 (-1.0)\n",
      "Epoch 082/100 | Loss 1.9507 | Win/lose count 1.5/2.0 (-0.5)\n",
      "Epoch 083/100 | Loss 1.8530 | Win/lose count 4.0/2.0 (2.0)\n",
      "Epoch 084/100 | Loss 1.8921 | Win/lose count 4.5/2.0 (2.5)\n",
      "Epoch 085/100 | Loss 1.7962 | Win/lose count 1.0/5.0 (-4.0)\n",
      "Epoch 086/100 | Loss 1.8912 | Win/lose count 6.0/7.0 (-1.0)\n",
      "Epoch 087/100 | Loss 1.8488 | Win/lose count 3.5/2.0 (1.5)\n",
      "Epoch 088/100 | Loss 1.8684 | Win/lose count 2.0/0 (2.0)\n",
      "Epoch 089/100 | Loss 1.9162 | Win/lose count 4.5/4.0 (0.5)\n",
      "Epoch 090/100 | Loss 1.8367 | Win/lose count 5.0/3.0 (2.0)\n",
      "Epoch 091/100 | Loss 1.8777 | Win/lose count 3.0/2.0 (1.0)\n",
      "Epoch 092/100 | Loss 1.8210 | Win/lose count 2.0/2.0 (0.0)\n",
      "Epoch 093/100 | Loss 1.9654 | Win/lose count 1.0/1.0 (0.0)\n",
      "Epoch 094/100 | Loss 1.9309 | Win/lose count 4.0/1.0 (3.0)\n",
      "Epoch 095/100 | Loss 1.8760 | Win/lose count 6.0/1.0 (5.0)\n",
      "Epoch 096/100 | Loss 1.9229 | Win/lose count 3.0/2.0 (1.0)\n",
      "Epoch 097/100 | Loss 1.9560 | Win/lose count 2.0/1.0 (1.0)\n",
      "Epoch 098/100 | Loss 1.8625 | Win/lose count 2.0/3.0 (-1.0)\n",
      "Epoch 099/100 | Loss 1.9044 | Win/lose count 0.5/0 (0.5)\n"
     ]
    },
    {
     "data": {
      "image/png": "[encoded data removed]",
      "text/plain": [
       "<Figure size 432x288 with 1 Axes>"
      ]
     },
     "metadata": {
      "needs_background": "light"
     },
     "output_type": "display_data"
    }
   ],
   "source": [
    "print(tf.__version__)\n",
    "env = Environment(grid_size=size, max_time=T, temperature=0.3)\n",
    "agent = DQN_FC(size, lr=0.0001, epsilon = 0.1, memory_size=2000, batch_size = 32)\n",
    "scores = train(agent, env, epochs_train, prefix='fc_train')\n",
    "\n",
    "plt.plot(scores)\n",
    "plt.show()\n",
    "#HTML(display_videos('fc_train10.mp4'))"
   ]
  },
  {
   "cell_type": "code",
   "execution_count": 140,
   "metadata": {},
   "outputs": [
    {
     "data": {
      "text/html": [
       "<video alt=\"test\" controls>\n",
       "                <source src=\"data:video/mp4;base64,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\" type=\"video/mp4\" />\n",
       "             </video>"
      ],
      "text/plain": [
       "<IPython.core.display.HTML object>"
      ]
     },
     "execution_count": 140,
     "metadata": {},
     "output_type": "execute_result"
    }
   ],
   "source": [
    "HTML(display_videos('fc_train90.mp4'))"
   ]
  },
  {
   "cell_type": "markdown",
   "metadata": {},
   "source": [
    "***\n",
    "***\n",
    "__Question 8__ Implement the DQN training algorithm using a CNN (for example, 2 convolutional layers and one final fully connected layer)."
   ]
  },
  {
   "cell_type": "code",
   "execution_count": 141,
   "metadata": {},
   "outputs": [],
   "source": [
    "class DQN_CNN(DQN):\n",
    "    def __init__(self, *args,lr=0.1,**kwargs):\n",
    "        super(DQN_CNN, self).__init__(*args,**kwargs)\n",
    "        \n",
    "        ###### FILL IN\n",
    "        model = Sequential()\n",
    "        model.add(Conv2D(8,3, input_shape = (5,5,self.n_state,), padding=\"same\"))\n",
    "        model.add(Conv2D(8,3, padding=\"same\"))\n",
    "        model.add(Reshape((5*5*8,), input_shape=(5,5,8,)))\n",
    "        model.add(Dense(32, input_dim=5*5*8, activation='relu'))\n",
    "        #model.add(Dense(32, activation='relu'))\n",
    "        model.add(Dense(4, activation='linear'))\n",
    "        \n",
    "        model.compile(sgd(lr=lr, decay=1e-4, momentum=0.0), \"mse\")\n",
    "        self.model = model\n",
    "        print(model.summary())\n",
    "        \n",
    "        # Could not find better parameters with adam\n",
    "        model.compile(sgd(lr=lr, decay=1e-4), \"mse\") # momentum=0.0\n",
    "        self.model = model"
   ]
  },
  {
   "cell_type": "code",
   "execution_count": 142,
   "metadata": {},
   "outputs": [
    {
     "name": "stdout",
     "output_type": "stream",
     "text": [
      "Model: \"sequential_56\"\n",
      "_________________________________________________________________\n",
      "Layer (type)                 Output Shape              Param #   \n",
      "=================================================================\n",
      "conv2d_43 (Conv2D)           (None, 5, 5, 8)           152       \n",
      "_________________________________________________________________\n",
      "conv2d_44 (Conv2D)           (None, 5, 5, 8)           584       \n",
      "_________________________________________________________________\n",
      "reshape_56 (Reshape)         (None, 200)               0         \n",
      "_________________________________________________________________\n",
      "dense_134 (Dense)            (None, 32)                6432      \n",
      "_________________________________________________________________\n",
      "dense_135 (Dense)            (None, 4)                 132       \n",
      "=================================================================\n",
      "Total params: 7,300\n",
      "Trainable params: 7,300\n",
      "Non-trainable params: 0\n",
      "_________________________________________________________________\n",
      "None\n",
      "Epoch 000/100 | Loss 0.4081 | Win/lose count 10.0/7.0 (3.0)\n",
      "Epoch 001/100 | Loss 2.0053 | Win/lose count 9.5/5.0 (4.5)\n",
      "Epoch 002/100 | Loss 2.2020 | Win/lose count 1.5/3.0 (-1.5)\n",
      "Epoch 003/100 | Loss 2.1283 | Win/lose count 5.5/1.0 (4.5)\n",
      "Epoch 004/100 | Loss 2.0685 | Win/lose count 8.5/1.0 (7.5)\n",
      "Epoch 005/100 | Loss 2.0789 | Win/lose count 8.5/5.0 (3.5)\n",
      "Epoch 006/100 | Loss 2.1424 | Win/lose count 9.0/4.0 (5.0)\n",
      "Epoch 007/100 | Loss 2.0869 | Win/lose count 8.5/1.0 (7.5)\n",
      "Epoch 008/100 | Loss 2.1541 | Win/lose count 7.5/1.0 (6.5)\n",
      "Epoch 009/100 | Loss 2.1454 | Win/lose count 8.0/5.0 (3.0)\n",
      "Epoch 010/100 | Loss 2.1198 | Win/lose count 10.0/5.0 (5.0)\n",
      "Epoch 011/100 | Loss 2.1368 | Win/lose count 6.5/4.0 (2.5)\n",
      "Epoch 012/100 | Loss 2.1885 | Win/lose count 2.0/1.0 (1.0)\n",
      "Epoch 013/100 | Loss 2.0727 | Win/lose count 10.0/1.0 (9.0)\n",
      "Epoch 014/100 | Loss 2.0889 | Win/lose count 9.0/8.0 (1.0)\n",
      "Epoch 015/100 | Loss 2.1018 | Win/lose count 12.5/3.0 (9.5)\n",
      "Epoch 016/100 | Loss 2.1294 | Win/lose count 8.5/1.0 (7.5)\n",
      "Epoch 017/100 | Loss 2.0929 | Win/lose count 10.5/3.0 (7.5)\n",
      "Epoch 018/100 | Loss 2.0908 | Win/lose count 2.5/1.0 (1.5)\n",
      "Epoch 019/100 | Loss 2.0132 | Win/lose count 8.5/1.0 (7.5)\n",
      "Epoch 020/100 | Loss 2.0829 | Win/lose count 11.0/4.0 (7.0)\n",
      "Epoch 021/100 | Loss 2.0869 | Win/lose count 5.5/3.0 (2.5)\n",
      "Epoch 022/100 | Loss 2.1308 | Win/lose count 8.5/6.0 (2.5)\n",
      "Epoch 023/100 | Loss 2.0988 | Win/lose count 16.0/3.0 (13.0)\n",
      "Epoch 024/100 | Loss 2.0461 | Win/lose count 9.5/2.0 (7.5)\n",
      "Epoch 025/100 | Loss 2.1411 | Win/lose count 10.5/6.0 (4.5)\n",
      "Epoch 026/100 | Loss 2.1208 | Win/lose count 11.0/3.0 (8.0)\n",
      "Epoch 027/100 | Loss 2.1127 | Win/lose count 7.0/1.0 (6.0)\n",
      "Epoch 028/100 | Loss 2.1252 | Win/lose count 6.5/2.0 (4.5)\n",
      "Epoch 029/100 | Loss 2.1156 | Win/lose count 8.5/4.0 (4.5)\n",
      "Epoch 030/100 | Loss 2.1135 | Win/lose count 14.0/2.0 (12.0)\n",
      "Epoch 031/100 | Loss 2.1128 | Win/lose count 9.5/3.0 (6.5)\n",
      "Epoch 032/100 | Loss 2.0753 | Win/lose count 5.5/1.0 (4.5)\n",
      "Epoch 033/100 | Loss 2.1306 | Win/lose count 5.0/3.0 (2.0)\n",
      "Epoch 034/100 | Loss 2.1201 | Win/lose count 2.0/1.0 (1.0)\n",
      "Epoch 035/100 | Loss 2.0852 | Win/lose count 7.0/3.0 (4.0)\n",
      "Epoch 036/100 | Loss 2.0438 | Win/lose count 13.0/7.0 (6.0)\n",
      "Epoch 037/100 | Loss 2.0821 | Win/lose count 15.0/4.0 (11.0)\n",
      "Epoch 038/100 | Loss 2.0643 | Win/lose count 12.5/4.0 (8.5)\n",
      "Epoch 039/100 | Loss 2.0401 | Win/lose count 14.0/3.0 (11.0)\n",
      "Epoch 040/100 | Loss 2.0642 | Win/lose count 6.0/4.0 (2.0)\n",
      "Epoch 041/100 | Loss 2.0133 | Win/lose count 8.0/0 (8.0)\n",
      "Epoch 042/100 | Loss 2.0294 | Win/lose count 14.5/4.0 (10.5)\n",
      "Epoch 043/100 | Loss 1.9958 | Win/lose count 8.0/3.0 (5.0)\n",
      "Epoch 044/100 | Loss 2.0594 | Win/lose count 3.0/2.0 (1.0)\n",
      "Epoch 045/100 | Loss 2.1100 | Win/lose count 1.0/1.0 (0.0)\n",
      "Epoch 046/100 | Loss 2.1316 | Win/lose count 9.0/0 (9.0)\n",
      "Epoch 047/100 | Loss 2.1213 | Win/lose count 9.0/1.0 (8.0)\n",
      "Epoch 048/100 | Loss 2.1206 | Win/lose count 9.5/0 (9.5)\n",
      "Epoch 049/100 | Loss 2.0817 | Win/lose count 14.0/2.0 (12.0)\n",
      "Epoch 050/100 | Loss 2.0370 | Win/lose count 6.5/3.0 (3.5)\n",
      "Epoch 051/100 | Loss 2.1617 | Win/lose count 10.5/1.0 (9.5)\n",
      "Epoch 052/100 | Loss 2.0909 | Win/lose count 13.5/0 (13.5)\n",
      "Epoch 053/100 | Loss 2.1242 | Win/lose count 9.5/3.0 (6.5)\n",
      "Epoch 054/100 | Loss 1.9945 | Win/lose count 5.0/2.0 (3.0)\n",
      "Epoch 055/100 | Loss 2.0821 | Win/lose count 14.5/4.0 (10.5)\n",
      "Epoch 056/100 | Loss 2.0643 | Win/lose count 10.5/0 (10.5)\n",
      "Epoch 057/100 | Loss 2.1016 | Win/lose count 12.0/6.0 (6.0)\n",
      "Epoch 058/100 | Loss 2.0171 | Win/lose count 7.5/4.0 (3.5)\n",
      "Epoch 059/100 | Loss 2.0561 | Win/lose count 16.0/5.0 (11.0)\n",
      "Epoch 060/100 | Loss 2.0817 | Win/lose count 9.5/0 (9.5)\n",
      "Epoch 061/100 | Loss 2.0697 | Win/lose count 11.5/3.0 (8.5)\n",
      "Epoch 062/100 | Loss 2.0835 | Win/lose count 10.0/2.0 (8.0)\n",
      "Epoch 063/100 | Loss 2.0060 | Win/lose count 12.5/3.0 (9.5)\n",
      "Epoch 064/100 | Loss 1.9904 | Win/lose count 12.5/3.0 (9.5)\n",
      "Epoch 065/100 | Loss 2.0493 | Win/lose count 7.5/3.0 (4.5)\n",
      "Epoch 066/100 | Loss 2.0460 | Win/lose count 15.5/1.0 (14.5)\n",
      "Epoch 067/100 | Loss 2.0432 | Win/lose count 6.0/5.0 (1.0)\n",
      "Epoch 068/100 | Loss 2.0150 | Win/lose count 13.0/3.0 (10.0)\n",
      "Epoch 069/100 | Loss 2.0766 | Win/lose count 5.5/1.0 (4.5)\n",
      "Epoch 070/100 | Loss 2.1224 | Win/lose count 2.0/1.0 (1.0)\n",
      "Epoch 071/100 | Loss 1.9905 | Win/lose count 11.5/2.0 (9.5)\n",
      "Epoch 072/100 | Loss 2.0467 | Win/lose count 16.5/2.0 (14.5)\n",
      "Epoch 073/100 | Loss 2.0536 | Win/lose count 6.0/2.0 (4.0)\n",
      "Epoch 074/100 | Loss 2.0735 | Win/lose count 12.5/1.0 (11.5)\n",
      "Epoch 075/100 | Loss 2.0670 | Win/lose count 4.0/4.0 (0.0)\n",
      "Epoch 076/100 | Loss 2.0670 | Win/lose count 9.5/7.0 (2.5)\n",
      "Epoch 077/100 | Loss 2.0449 | Win/lose count 11.5/1.0 (10.5)\n",
      "Epoch 078/100 | Loss 1.9836 | Win/lose count 7.5/2.0 (5.5)\n",
      "Epoch 079/100 | Loss 2.0364 | Win/lose count 4.5/4.0 (0.5)\n",
      "Epoch 080/100 | Loss 2.0631 | Win/lose count 6.0/3.0 (3.0)\n",
      "Epoch 081/100 | Loss 2.0581 | Win/lose count 9.0/2.0 (7.0)\n",
      "Epoch 082/100 | Loss 2.0629 | Win/lose count 9.5/5.0 (4.5)\n",
      "Epoch 083/100 | Loss 2.0676 | Win/lose count 11.0/4.0 (7.0)\n",
      "Epoch 084/100 | Loss 2.0212 | Win/lose count 24.5/2.0 (22.5)\n",
      "Epoch 085/100 | Loss 2.0226 | Win/lose count 3.5/2.0 (1.5)\n",
      "Epoch 086/100 | Loss 1.9631 | Win/lose count 21.5/4.0 (17.5)\n",
      "Epoch 087/100 | Loss 2.0153 | Win/lose count 2.5/3.0 (-0.5)\n",
      "Epoch 088/100 | Loss 1.9760 | Win/lose count 4.0/2.0 (2.0)\n",
      "Epoch 089/100 | Loss 2.0230 | Win/lose count 11.0/2.0 (9.0)\n",
      "Epoch 090/100 | Loss 2.0159 | Win/lose count 10.0/1.0 (9.0)\n",
      "Epoch 091/100 | Loss 2.0668 | Win/lose count 6.5/2.0 (4.5)\n",
      "Epoch 092/100 | Loss 2.0461 | Win/lose count 14.0/4.0 (10.0)\n",
      "Epoch 093/100 | Loss 1.9808 | Win/lose count 16.5/2.0 (14.5)\n",
      "Epoch 094/100 | Loss 2.0224 | Win/lose count 11.0/3.0 (8.0)\n",
      "Epoch 095/100 | Loss 2.0200 | Win/lose count 5.0/0 (5.0)\n",
      "Epoch 096/100 | Loss 2.1214 | Win/lose count 15.5/4.0 (11.5)\n",
      "Epoch 097/100 | Loss 2.0059 | Win/lose count 9.0/4.0 (5.0)\n",
      "Epoch 098/100 | Loss 2.0412 | Win/lose count 3.0/1.0 (2.0)\n",
      "Epoch 099/100 | Loss 1.9969 | Win/lose count 9.5/6.0 (3.5)\n"
     ]
    },
    {
     "data": {
      "image/png": "[encoded data removed]",
      "text/plain": [
       "<Figure size 432x288 with 1 Axes>"
      ]
     },
     "metadata": {
      "needs_background": "light"
     },
     "output_type": "display_data"
    }
   ],
   "source": [
    "env = Environment(grid_size=size, max_time=T, temperature=0.3)\n",
    "agent = DQN_CNN(size, lr=.1, epsilon = 0.1, memory_size=2000, batch_size = 32)\n",
    "scores = train(agent,env,epochs_train,prefix='cnn_train')\n",
    "\n",
    "plt.plot(scores)\n",
    "plt.show()\n",
    "#HTML(display_videos('cnn_train10.mp4'))"
   ]
  },
  {
   "cell_type": "code",
   "execution_count": 143,
   "metadata": {},
   "outputs": [
    {
     "data": {
      "text/html": [
       "<video alt=\"test\" controls>\n",
       "                <source src=\"data:video/mp4;base64,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\" type=\"video/mp4\" />\n",
       "             </video>"
      ],
      "text/plain": [
       "<IPython.core.display.HTML object>"
      ]
     },
     "execution_count": 143,
     "metadata": {},
     "output_type": "execute_result"
    }
   ],
   "source": [
    "HTML(display_videos('cnn_train90.mp4'))"
   ]
  },
  {
   "cell_type": "markdown",
   "metadata": {},
   "source": [
    "***\n",
    "***\n",
    "__Question 9__ Test both algorithms and compare their performances. Which issue(s) do you observe? Observe also different behaviors by changing the temperature."
   ]
  },
  {
   "cell_type": "code",
   "execution_count": 144,
   "metadata": {},
   "outputs": [
    {
     "name": "stdout",
     "output_type": "stream",
     "text": [
      "Model: \"sequential_57\"\n",
      "_________________________________________________________________\n",
      "Layer (type)                 Output Shape              Param #   \n",
      "=================================================================\n",
      "conv2d_45 (Conv2D)           (None, 5, 5, 8)           152       \n",
      "_________________________________________________________________\n",
      "conv2d_46 (Conv2D)           (None, 5, 5, 8)           584       \n",
      "_________________________________________________________________\n",
      "reshape_57 (Reshape)         (None, 200)               0         \n",
      "_________________________________________________________________\n",
      "dense_136 (Dense)            (None, 32)                6432      \n",
      "_________________________________________________________________\n",
      "dense_137 (Dense)            (None, 4)                 132       \n",
      "=================================================================\n",
      "Total params: 7,300\n",
      "Trainable params: 7,300\n",
      "Non-trainable params: 0\n",
      "_________________________________________________________________\n",
      "None\n",
      "Model: \"sequential_58\"\n",
      "_________________________________________________________________\n",
      "Layer (type)                 Output Shape              Param #   \n",
      "=================================================================\n",
      "reshape_58 (Reshape)         (None, 50)                0         \n",
      "_________________________________________________________________\n",
      "dense_138 (Dense)            (None, 32)                1632      \n",
      "_________________________________________________________________\n",
      "dense_139 (Dense)            (None, 32)                1056      \n",
      "_________________________________________________________________\n",
      "dense_140 (Dense)            (None, 4)                 132       \n",
      "=================================================================\n",
      "Total params: 2,820\n",
      "Trainable params: 2,820\n",
      "Non-trainable params: 0\n",
      "_________________________________________________________________\n",
      "None\n",
      "Test of the CNN\n",
      "Win/lose count 2.5/1.0. Average score (1.5)\n",
      "Win/lose count 4.5/1.0. Average score (2.5)\n",
      "Win/lose count 0/0. Average score (1.6666666666666667)\n",
      "Win/lose count 1.5/0. Average score (1.625)\n",
      "Win/lose count 2.5/1.0. Average score (1.6)\n",
      "Win/lose count 3.5/2.0. Average score (1.5833333333333333)\n",
      "Win/lose count 1.5/0. Average score (1.5714285714285714)\n",
      "Win/lose count 2.5/0. Average score (1.6875)\n",
      "Win/lose count 3.0/0. Average score (1.8333333333333333)\n",
      "Win/lose count 1.0/0. Average score (1.75)\n",
      "Win/lose count 0/0. Average score (1.5909090909090908)\n",
      "Win/lose count 0.5/0. Average score (1.5)\n",
      "Win/lose count 1.5/1.0. Average score (1.4230769230769231)\n",
      "Win/lose count 1.0/0. Average score (1.3928571428571428)\n",
      "Win/lose count 0.5/1.0. Average score (1.2666666666666666)\n",
      "Win/lose count 1.5/2.0. Average score (1.15625)\n",
      "Win/lose count 1.5/0. Average score (1.1764705882352942)\n",
      "Win/lose count 0.5/1.0. Average score (1.0833333333333333)\n",
      "Win/lose count 1.0/0. Average score (1.0789473684210527)\n",
      "Win/lose count 3.5/0. Average score (1.2)\n",
      "Final score: 1.2\n",
      "Test of the FC\n",
      "Win/lose count 0.5/3.0. Average score (-2.5)\n",
      "Win/lose count 4.0/8.0. Average score (-3.25)\n",
      "Win/lose count 2.5/3.0. Average score (-2.3333333333333335)\n",
      "Win/lose count 5.0/7.0. Average score (-2.25)\n",
      "Win/lose count 1.0/7.0. Average score (-3.0)\n",
      "Win/lose count 6.5/10.0. Average score (-3.0833333333333335)\n",
      "Win/lose count 4.5/9.0. Average score (-3.2857142857142856)\n",
      "Win/lose count 3.5/4.0. Average score (-2.9375)\n",
      "Win/lose count 4.0/6.0. Average score (-2.8333333333333335)\n",
      "Win/lose count 3.0/5.0. Average score (-2.75)\n",
      "Win/lose count 6.0/8.0. Average score (-2.6818181818181817)\n",
      "Win/lose count 3.5/4.0. Average score (-2.5)\n",
      "Win/lose count 0/7.0. Average score (-2.8461538461538463)\n",
      "Win/lose count 3.0/5.0. Average score (-2.7857142857142856)\n",
      "Win/lose count 2.5/6.0. Average score (-2.8333333333333335)\n",
      "Win/lose count 1.5/1.0. Average score (-2.625)\n",
      "Win/lose count 6.5/3.0. Average score (-2.264705882352941)\n",
      "Win/lose count 3.0/5.0. Average score (-2.25)\n",
      "Win/lose count 3.5/1.0. Average score (-2.0)\n",
      "Win/lose count 5.0/4.0. Average score (-1.85)\n",
      "Final score: -1.85\n"
     ]
    }
   ],
   "source": [
    "env = Environment(grid_size=size, max_time=T,temperature=0.3)\n",
    "agent_cnn = DQN_CNN(size, lr=.1, epsilon = 0.0001, memory_size=2000, batch_size = 32)\n",
    "agent_cnn.load(name_weights='cnn_trainmodel.h5',name_model='cnn_trainmodel.json')\n",
    "\n",
    "agent_fc = DQN_FC(size, lr=.1, epsilon = 0.1, memory_size=2000, batch_size = 32)\n",
    "agent_cnn.load(name_weights='fc_trainmodel.h5',name_model='fc_trainmodel.json')\n",
    "print('Test of the CNN')\n",
    "test(agent_cnn,env,epochs_test,prefix='cnn_test')\n",
    "print('Test of the FC')\n",
    "test(agent_fc,env,epochs_test,prefix='fc_test')"
   ]
  },
  {
   "cell_type": "code",
   "execution_count": 145,
   "metadata": {},
   "outputs": [
    {
     "data": {
      "text/html": [
       "<video alt=\"test\" controls>\n",
       "                <source src=\"data:video/mp4;base64,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\" type=\"video/mp4\" />\n",
       "             </video>"
      ],
      "text/plain": [
       "<IPython.core.display.HTML object>"
      ]
     },
     "execution_count": 145,
     "metadata": {},
     "output_type": "execute_result"
    }
   ],
   "source": [
    "HTML(display_videos('cnn_test10.mp4'))"
   ]
  },
  {
   "cell_type": "code",
   "execution_count": 146,
   "metadata": {},
   "outputs": [
    {
     "data": {
      "text/html": [
       "<video alt=\"test\" controls>\n",
       "                <source src=\"data:video/mp4;base64,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\" type=\"video/mp4\" />\n",
       "             </video>"
      ],
      "text/plain": [
       "<IPython.core.display.HTML object>"
      ]
     },
     "execution_count": 146,
     "metadata": {},
     "output_type": "execute_result"
    }
   ],
   "source": [
    "HTML(display_videos('fc_test10.mp4'))"
   ]
  },
  {
   "cell_type": "markdown",
   "metadata": {},
   "source": []
  },
  {
   "cell_type": "markdown",
   "metadata": {},
   "source": [
    "***\n",
    "\n",
    "The algorithm tends to not explore the map which can be an issue. We propose two ideas in order to encourage exploration:\n",
    "1. Incorporating a decreasing $\\epsilon$-greedy exploration. You can use the method ```set_epsilon```\n",
    "2. Append via the environment a new state that describes if a cell has been visited or not\n",
    "\n",
    "***\n",
    "__Question 10__ Design a new ```train_explore``` function and environment class ```EnvironmentExploring``` to tackle the issue of exploration.\n",
    "\n"
   ]
  },
  {
   "cell_type": "code",
   "execution_count": 154,
   "metadata": {},
   "outputs": [
    {
     "data": {
      "text/plain": [
       "'## use those samples of code:\\n#In train explore:\\nstate, reward, game_over = env.act(action, train=True)\\n\\n## In Environment exploring:\\n# You will have to change n_state to 3 because you will use one more layer!\\nreward = 0\\nif train:\\n    reward = -self.malus_position[self.x, self.y]\\nself.malus_position[self.x, self.y] = 0.1\\n\\nreward = reward + self.board[self.x, self.y]\\n# 3 \"feature\" states instead of 2\\nstate = np.concatenate((self.malus_position.reshape(self.grid_size, self.grid_size,1),\\n                                self.board.reshape(self.grid_size, self.grid_size,1),\\n                        self.position.reshape(self.grid_size, self.grid_size,1)),axis=2)'"
      ]
     },
     "execution_count": 154,
     "metadata": {},
     "output_type": "execute_result"
    }
   ],
   "source": [
    "def train_explore(agent,env,epoch,prefix=''):\n",
    "    # Decrease epsilon from 0.9 to 0.1 (min is reached at 2/3 of the training)\n",
    "    # Number of won games\n",
    "    score = 0\n",
    "    loss = 0\n",
    "    scores = []\n",
    "    \n",
    "    start_epsilon = 0.5\n",
    "    end_epsilon = 0.1\n",
    "    stop = int(epoch*(2/3))\n",
    "    decrease = (start_epsilon-end_epsilon)/stop\n",
    "    \n",
    "    epsilon = start_epsilon\n",
    "    agent.set_epsilon(epsilon)\n",
    "\n",
    "    for e in range(epoch):\n",
    "        # At each epoch, we restart to a fresh game and get the initial state\n",
    "        state = env.reset()\n",
    "        # This assumes that the games will terminate\n",
    "        game_over = False\n",
    "        \n",
    "        if e<stop:\n",
    "            epsilon -= decrease\n",
    "            agent.set_epsilon(epsilon)\n",
    "        \n",
    "        win = 0\n",
    "        lose = 0\n",
    "        win_count = 0\n",
    "        lose_count = 0\n",
    "        \n",
    "        while not game_over:\n",
    "            # The agent performs an action\n",
    "            action = agent.act(state)\n",
    "\n",
    "            # Apply an action to the environment, get the next state, the reward\n",
    "            # and if the games end\n",
    "            prev_state = state\n",
    "            state, reward, game_over = env.act(action)\n",
    "\n",
    "            # Update the counters\n",
    "            if reward > 0:\n",
    "                win_count += 1\n",
    "                win = win + reward\n",
    "            if reward < 0:\n",
    "                if reward < -0.5: lose_count += 1\n",
    "                lose = lose -reward\n",
    "\n",
    "            # Apply the reinforcement strategy\n",
    "            loss = agent.reinforce(prev_state, state,  action, reward, game_over)\n",
    "\n",
    "        # Save as a mp4\n",
    "        if e % 10 == 0:\n",
    "            env.draw(prefix+str(e))\n",
    "\n",
    "        # Update stats\n",
    "        score += win-lose\n",
    "        scores.append(win_count-lose_count)\n",
    "\n",
    "        print(\"Epoch {:03d}/{:03d} | Loss {:.4f} | Win/lose count {}/{} ({})\"\n",
    "              .format(e, epoch, loss, win, lose, win-lose))\n",
    "        agent.save(name_weights=prefix+'model.h5',name_model=prefix+'model.json')\n",
    "    return scores\n",
    "        \n",
    "class EnvironmentExploring(Environment):\n",
    "\n",
    "    def __init__(self, grid_size=10, max_time=500, temperature=0.1):\n",
    "        \n",
    "        super(EnvironmentExploring, self).__init__(grid_size, max_time, temperature)\n",
    "        self.malus_position = np.zeros((self.grid_size,self.grid_size))\n",
    "\n",
    "\n",
    "    def act(self, action):\n",
    "        \"\"\"This function returns the new state, reward and decides if the\n",
    "        game ends.\"\"\"\n",
    "\n",
    "        self.get_frame(int(self.t))\n",
    "\n",
    "        self.position = np.zeros((self.grid_size, self.grid_size))\n",
    "\n",
    "        self.position[0:2,:]= -1\n",
    "        self.position[:,0:2] = -1\n",
    "        self.position[-2:, :] = -1\n",
    "        self.position[-2:, :] = -1\n",
    "\n",
    "        self.position[self.x, self.y] = 1\n",
    "        if action == 0:\n",
    "            if self.x == self.grid_size-3:\n",
    "                self.x = self.x-1\n",
    "            else:\n",
    "                self.x = self.x + 1\n",
    "        elif action == 1:\n",
    "            if self.x == 2:\n",
    "                self.x = self.x+1\n",
    "            else:\n",
    "                self.x = self.x-1\n",
    "        elif action == 2:\n",
    "            if self.y == self.grid_size - 3:\n",
    "                self.y = self.y - 1\n",
    "            else:\n",
    "                self.y = self.y + 1\n",
    "        elif action == 3:\n",
    "            if self.y == 2:\n",
    "                self.y = self.y + 1\n",
    "            else:\n",
    "                self.y = self.y - 1\n",
    "        else:\n",
    "            RuntimeError('Error: action not recognized')\n",
    "\n",
    "        self.t = self.t + 1\n",
    "        reward = self.board[self.x, self.y]\n",
    "        if train:\n",
    "            reward = -self.malus_position[self.x, self.y]\n",
    "        self.malus_position[self.x, self.y] = 0.1\n",
    "        self.board[self.x, self.y] = 0\n",
    "        game_over = self.t > self.max_time\n",
    "        state = np.concatenate((self.malus_position.reshape(self.grid_size, self.grid_size,1),\n",
    "                                self.board.reshape(self.grid_size, self.grid_size,1),\n",
    "                        self.position.reshape(self.grid_size, self.grid_size,1)),axis=2)\n",
    "        state = state[self.x-2:self.x+3,self.y-2:self.y+3,:]\n",
    "\n",
    "        return state, reward, game_over\n",
    "\n",
    "    def reset(self):\n",
    "        \"\"\"This function resets the game and returns the initial state\"\"\"\n",
    "\n",
    "        self.x = np.random.randint(3, self.grid_size-3, size=1)[0]\n",
    "        self.y = np.random.randint(3, self.grid_size-3, size=1)[0]\n",
    "    \n",
    "        # Do not forget to reset the position malus\n",
    "        self.malus_position = np.zeros((self.grid_size,self.grid_size))\n",
    "\n",
    "        bonus = 0.5*np.random.binomial(1,self.temperature,size=self.grid_size**2)\n",
    "        bonus = bonus.reshape(self.grid_size,self.grid_size)\n",
    "\n",
    "        malus = -1.0*np.random.binomial(1,self.temperature,size=self.grid_size**2)\n",
    "        malus = malus.reshape(self.grid_size, self.grid_size)\n",
    "\n",
    "        self.to_draw = np.zeros((self.max_time+2, self.grid_size*self.scale, self.grid_size*self.scale, 3))\n",
    "\n",
    "\n",
    "        malus[bonus>0]=0\n",
    "\n",
    "        self.board = bonus + malus\n",
    "\n",
    "        self.position = np.zeros((self.grid_size, self.grid_size))\n",
    "        self.position[0:2,:]= -1\n",
    "        self.position[:,0:2] = -1\n",
    "        self.position[-2:, :] = -1\n",
    "        self.position[-2:, :] = -1\n",
    "        self.board[self.x,self.y] = 0\n",
    "        self.t = 0\n",
    "\n",
    "        state = np.concatenate((self.malus_position.reshape(self.grid_size, self.grid_size,1),\n",
    "                                self.board.reshape(self.grid_size, self.grid_size,1),\n",
    "                        self.position.reshape(self.grid_size, self.grid_size,1)),axis=2)\n",
    "\n",
    "        state = state[self.x - 2:self.x + 3, self.y - 2:self.y + 3, :]\n",
    "        return state\n",
    "    \n",
    "'''## use those samples of code:\n",
    "#In train explore:\n",
    "state, reward, game_over = env.act(action, train=True)\n",
    "\n",
    "## In Environment exploring:\n",
    "# You will have to change n_state to 3 because you will use one more layer!\n",
    "reward = 0\n",
    "if train:\n",
    "    reward = -self.malus_position[self.x, self.y]\n",
    "self.malus_position[self.x, self.y] = 0.1\n",
    "\n",
    "reward = reward + self.board[self.x, self.y]\n",
    "# 3 \"feature\" states instead of 2\n",
    "state = np.concatenate((self.malus_position.reshape(self.grid_size, self.grid_size,1),\n",
    "                                self.board.reshape(self.grid_size, self.grid_size,1),\n",
    "                        self.position.reshape(self.grid_size, self.grid_size,1)),axis=2)'''"
   ]
  },
  {
   "cell_type": "code",
   "execution_count": 155,
   "metadata": {},
   "outputs": [
    {
     "name": "stdout",
     "output_type": "stream",
     "text": [
      "Model: \"sequential_61\"\n",
      "_________________________________________________________________\n",
      "Layer (type)                 Output Shape              Param #   \n",
      "=================================================================\n",
      "conv2d_51 (Conv2D)           (None, 5, 5, 8)           224       \n",
      "_________________________________________________________________\n",
      "conv2d_52 (Conv2D)           (None, 5, 5, 8)           584       \n",
      "_________________________________________________________________\n",
      "reshape_61 (Reshape)         (None, 200)               0         \n",
      "_________________________________________________________________\n",
      "dense_145 (Dense)            (None, 32)                6432      \n",
      "_________________________________________________________________\n",
      "dense_146 (Dense)            (None, 4)                 132       \n",
      "=================================================================\n",
      "Total params: 7,372\n",
      "Trainable params: 7,372\n",
      "Non-trainable params: 0\n",
      "_________________________________________________________________\n",
      "None\n",
      "Epoch 000/100 | Loss 0.0034 | Win/lose count 0/13.09999999999997 (-13.09999999999997)\n",
      "Epoch 001/100 | Loss 0.0018 | Win/lose count 0/15.499999999999961 (-15.499999999999961)\n",
      "Epoch 002/100 | Loss 0.0056 | Win/lose count 0/14.899999999999963 (-14.899999999999963)\n",
      "Epoch 003/100 | Loss 0.0616 | Win/lose count 0/14.299999999999965 (-14.299999999999965)\n",
      "Epoch 004/100 | Loss 0.7059 | Win/lose count 0/12.89999999999997 (-12.89999999999997)\n",
      "Epoch 005/100 | Loss 2.0090 | Win/lose count 0/16.499999999999964 (-16.499999999999964)\n",
      "Epoch 006/100 | Loss 0.1386 | Win/lose count 0/14.599999999999964 (-14.599999999999964)\n",
      "Epoch 007/100 | Loss 2.0254 | Win/lose count 0/14.099999999999966 (-14.099999999999966)\n",
      "Epoch 008/100 | Loss 0.6440 | Win/lose count 0/17.59999999999998 (-17.59999999999998)\n",
      "Epoch 009/100 | Loss 2.0546 | Win/lose count 0/13.899999999999967 (-13.899999999999967)\n",
      "Epoch 010/100 | Loss 1.8968 | Win/lose count 0/16.699999999999967 (-16.699999999999967)\n",
      "Epoch 011/100 | Loss 2.0921 | Win/lose count 0/9.499999999999982 (-9.499999999999982)\n",
      "Epoch 012/100 | Loss 2.0605 | Win/lose count 0/10.999999999999977 (-10.999999999999977)\n",
      "Epoch 013/100 | Loss 2.0602 | Win/lose count 0/12.099999999999973 (-12.099999999999973)\n",
      "Epoch 014/100 | Loss 2.0504 | Win/lose count 0/14.099999999999966 (-14.099999999999966)\n",
      "Epoch 015/100 | Loss 2.1011 | Win/lose count 0/10.699999999999978 (-10.699999999999978)\n",
      "Epoch 016/100 | Loss 2.1049 | Win/lose count 0/12.199999999999973 (-12.199999999999973)\n",
      "Epoch 017/100 | Loss 2.1001 | Win/lose count 0/10.699999999999978 (-10.699999999999978)\n",
      "Epoch 018/100 | Loss 2.1115 | Win/lose count 0/14.399999999999965 (-14.399999999999965)\n",
      "Epoch 019/100 | Loss 2.1038 | Win/lose count 0/14.999999999999963 (-14.999999999999963)\n",
      "Epoch 020/100 | Loss 2.1053 | Win/lose count 0/12.099999999999973 (-12.099999999999973)\n",
      "Epoch 021/100 | Loss 2.1213 | Win/lose count 0/10.19999999999998 (-10.19999999999998)\n",
      "Epoch 022/100 | Loss 2.0996 | Win/lose count 0/14.399999999999965 (-14.399999999999965)\n",
      "Epoch 023/100 | Loss 2.0991 | Win/lose count 0/13.499999999999968 (-13.499999999999968)\n",
      "Epoch 024/100 | Loss 2.1217 | Win/lose count 0/14.999999999999963 (-14.999999999999963)\n",
      "Epoch 025/100 | Loss 2.1287 | Win/lose count 0/10.599999999999978 (-10.599999999999978)\n",
      "Epoch 026/100 | Loss 2.1234 | Win/lose count 0/13.399999999999968 (-13.399999999999968)\n",
      "Epoch 027/100 | Loss 2.1196 | Win/lose count 0/13.799999999999967 (-13.799999999999967)\n",
      "Epoch 028/100 | Loss 2.1110 | Win/lose count 0/13.499999999999968 (-13.499999999999968)\n",
      "Epoch 029/100 | Loss 2.1196 | Win/lose count 0/12.399999999999972 (-12.399999999999972)\n",
      "Epoch 030/100 | Loss 2.1155 | Win/lose count 0/10.699999999999978 (-10.699999999999978)\n",
      "Epoch 031/100 | Loss 2.1094 | Win/lose count 0/13.699999999999967 (-13.699999999999967)\n",
      "Epoch 032/100 | Loss 2.1312 | Win/lose count 0/11.999999999999973 (-11.999999999999973)\n",
      "Epoch 033/100 | Loss 2.1077 | Win/lose count 0/12.199999999999973 (-12.199999999999973)\n",
      "Epoch 034/100 | Loss 2.1233 | Win/lose count 0/14.799999999999963 (-14.799999999999963)\n",
      "Epoch 035/100 | Loss 2.1095 | Win/lose count 0/13.899999999999967 (-13.899999999999967)\n",
      "Epoch 036/100 | Loss 2.1094 | Win/lose count 0/14.399999999999965 (-14.399999999999965)\n",
      "Epoch 037/100 | Loss 2.0959 | Win/lose count 0/14.899999999999963 (-14.899999999999963)\n",
      "Epoch 038/100 | Loss 2.1015 | Win/lose count 0/12.89999999999997 (-12.89999999999997)\n",
      "Epoch 039/100 | Loss 2.1029 | Win/lose count 0/12.69999999999997 (-12.69999999999997)\n",
      "Epoch 040/100 | Loss 2.1320 | Win/lose count 0/10.999999999999977 (-10.999999999999977)\n",
      "Epoch 041/100 | Loss 2.1011 | Win/lose count 0/12.599999999999971 (-12.599999999999971)\n",
      "Epoch 042/100 | Loss 2.0988 | Win/lose count 0/11.599999999999975 (-11.599999999999975)\n",
      "Epoch 043/100 | Loss 2.1212 | Win/lose count 0/12.399999999999972 (-12.399999999999972)\n",
      "Epoch 044/100 | Loss 2.1070 | Win/lose count 0/12.599999999999971 (-12.599999999999971)\n",
      "Epoch 045/100 | Loss 2.1091 | Win/lose count 0/11.699999999999974 (-11.699999999999974)\n",
      "Epoch 046/100 | Loss 2.1258 | Win/lose count 0/11.999999999999973 (-11.999999999999973)\n",
      "Epoch 047/100 | Loss 2.1315 | Win/lose count 0/12.399999999999972 (-12.399999999999972)\n",
      "Epoch 048/100 | Loss 2.1172 | Win/lose count 0/11.499999999999975 (-11.499999999999975)\n",
      "Epoch 049/100 | Loss 2.1312 | Win/lose count 0/11.099999999999977 (-11.099999999999977)\n",
      "Epoch 050/100 | Loss 2.1117 | Win/lose count 0/12.99999999999997 (-12.99999999999997)\n",
      "Epoch 051/100 | Loss 2.1272 | Win/lose count 0/14.299999999999965 (-14.299999999999965)\n",
      "Epoch 052/100 | Loss 2.1243 | Win/lose count 0/10.19999999999998 (-10.19999999999998)\n",
      "Epoch 053/100 | Loss 2.1211 | Win/lose count 0/13.499999999999968 (-13.499999999999968)\n",
      "Epoch 054/100 | Loss 2.1386 | Win/lose count 0/14.499999999999964 (-14.499999999999964)\n",
      "Epoch 055/100 | Loss 2.1315 | Win/lose count 0/12.69999999999997 (-12.69999999999997)\n",
      "Epoch 056/100 | Loss 2.1217 | Win/lose count 0/16.499999999999964 (-16.499999999999964)\n",
      "Epoch 057/100 | Loss 2.1290 | Win/lose count 0/13.09999999999997 (-13.09999999999997)\n",
      "Epoch 058/100 | Loss 2.1051 | Win/lose count 0/13.999999999999966 (-13.999999999999966)\n",
      "Epoch 059/100 | Loss 2.1062 | Win/lose count 0/14.599999999999964 (-14.599999999999964)\n",
      "Epoch 060/100 | Loss 2.1042 | Win/lose count 0/14.299999999999965 (-14.299999999999965)\n",
      "Epoch 061/100 | Loss 2.1238 | Win/lose count 0/18.39999999999999 (-18.39999999999999)\n",
      "Epoch 062/100 | Loss 2.1027 | Win/lose count 0/12.499999999999972 (-12.499999999999972)\n",
      "Epoch 063/100 | Loss 2.1092 | Win/lose count 0/14.199999999999966 (-14.199999999999966)\n",
      "Epoch 064/100 | Loss 2.1255 | Win/lose count 0/10.899999999999977 (-10.899999999999977)\n",
      "Epoch 065/100 | Loss 2.1011 | Win/lose count 0/13.899999999999967 (-13.899999999999967)\n",
      "Epoch 066/100 | Loss 2.1157 | Win/lose count 0/12.399999999999972 (-12.399999999999972)\n",
      "Epoch 067/100 | Loss 2.1465 | Win/lose count 0/13.799999999999967 (-13.799999999999967)\n",
      "Epoch 068/100 | Loss 2.1170 | Win/lose count 0/12.89999999999997 (-12.89999999999997)\n",
      "Epoch 069/100 | Loss 2.1134 | Win/lose count 0/10.999999999999977 (-10.999999999999977)\n",
      "Epoch 070/100 | Loss 2.1253 | Win/lose count 0/16.09999999999996 (-16.09999999999996)\n",
      "Epoch 071/100 | Loss 2.1229 | Win/lose count 0/13.999999999999966 (-13.999999999999966)\n",
      "Epoch 072/100 | Loss 2.1321 | Win/lose count 0/10.999999999999977 (-10.999999999999977)\n",
      "Epoch 073/100 | Loss 2.1457 | Win/lose count 0/13.199999999999969 (-13.199999999999969)\n",
      "Epoch 074/100 | Loss 2.1052 | Win/lose count 0/13.999999999999966 (-13.999999999999966)\n",
      "Epoch 075/100 | Loss 2.1151 | Win/lose count 0/13.599999999999968 (-13.599999999999968)\n",
      "Epoch 076/100 | Loss 2.1289 | Win/lose count 0/13.299999999999969 (-13.299999999999969)\n",
      "Epoch 077/100 | Loss 2.1224 | Win/lose count 0/9.099999999999984 (-9.099999999999984)\n",
      "Epoch 078/100 | Loss 2.1247 | Win/lose count 0/10.799999999999978 (-10.799999999999978)\n",
      "Epoch 079/100 | Loss 2.1378 | Win/lose count 0/10.999999999999977 (-10.999999999999977)\n",
      "Epoch 080/100 | Loss 2.1282 | Win/lose count 0/14.099999999999966 (-14.099999999999966)\n",
      "Epoch 081/100 | Loss 2.1306 | Win/lose count 0/14.899999999999963 (-14.899999999999963)\n"
     ]
    },
    {
     "name": "stdout",
     "output_type": "stream",
     "text": [
      "Epoch 082/100 | Loss 2.1267 | Win/lose count 0/13.799999999999967 (-13.799999999999967)\n",
      "Epoch 083/100 | Loss 2.1239 | Win/lose count 0/12.599999999999971 (-12.599999999999971)\n",
      "Epoch 084/100 | Loss 2.1142 | Win/lose count 0/9.99999999999998 (-9.99999999999998)\n",
      "Epoch 085/100 | Loss 2.1392 | Win/lose count 0/11.199999999999976 (-11.199999999999976)\n",
      "Epoch 086/100 | Loss 2.1168 | Win/lose count 0/12.69999999999997 (-12.69999999999997)\n",
      "Epoch 087/100 | Loss 2.1232 | Win/lose count 0/13.09999999999997 (-13.09999999999997)\n",
      "Epoch 088/100 | Loss 2.1475 | Win/lose count 0/16.29999999999996 (-16.29999999999996)\n",
      "Epoch 089/100 | Loss 2.1111 | Win/lose count 0/16.29999999999996 (-16.29999999999996)\n",
      "Epoch 090/100 | Loss 2.1103 | Win/lose count 0/14.199999999999966 (-14.199999999999966)\n",
      "Epoch 091/100 | Loss 2.1168 | Win/lose count 0/16.29999999999996 (-16.29999999999996)\n",
      "Epoch 092/100 | Loss 2.1195 | Win/lose count 0/17.199999999999974 (-17.199999999999974)\n",
      "Epoch 093/100 | Loss 2.1276 | Win/lose count 0/15.099999999999962 (-15.099999999999962)\n",
      "Epoch 094/100 | Loss 2.1168 | Win/lose count 0/12.299999999999972 (-12.299999999999972)\n",
      "Epoch 095/100 | Loss 2.1091 | Win/lose count 0/13.499999999999968 (-13.499999999999968)\n",
      "Epoch 096/100 | Loss 2.1146 | Win/lose count 0/16.499999999999964 (-16.499999999999964)\n",
      "Epoch 097/100 | Loss 2.1129 | Win/lose count 0/14.899999999999963 (-14.899999999999963)\n",
      "Epoch 098/100 | Loss 2.1147 | Win/lose count 0/10.29999999999998 (-10.29999999999998)\n",
      "Epoch 099/100 | Loss 2.1056 | Win/lose count 0/9.599999999999982 (-9.599999999999982)\n"
     ]
    },
    {
     "data": {
      "text/plain": [
       "[<matplotlib.lines.Line2D at 0x7efcda184080>]"
      ]
     },
     "execution_count": 155,
     "metadata": {},
     "output_type": "execute_result"
    },
    {
     "data": {
      "image/png": "[encoded data removed]",
      "text/plain": [
       "<Figure size 432x288 with 1 Axes>"
      ]
     },
     "metadata": {
      "needs_background": "light"
     },
     "output_type": "display_data"
    }
   ],
   "source": [
    "# Training\n",
    "env = EnvironmentExploring(grid_size=size, max_time=T, temperature=0.3)\n",
    "agent = DQN_CNN(size, lr=.1, epsilon = 0.1, memory_size=2000, batch_size = 32,n_state=3)\n",
    "scores = train_explore(agent, env, epochs_train, prefix='cnn_train_explore')\n",
    "\n",
    "plt.plot(scores)\n",
    "\n",
    "#HTML(display_videos('cnn_train_explore10.mp4'))"
   ]
  },
  {
   "cell_type": "code",
   "execution_count": 156,
   "metadata": {},
   "outputs": [
    {
     "data": {
      "text/html": [
       "<video alt=\"test\" controls>\n",
       "                <source src=\"data:video/mp4;base64,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\" type=\"video/mp4\" />\n",
       "             </video>"
      ],
      "text/plain": [
       "<IPython.core.display.HTML object>"
      ]
     },
     "execution_count": 156,
     "metadata": {},
     "output_type": "execute_result"
    }
   ],
   "source": [
    "HTML(display_videos('cnn_train_explore70.mp4'))"
   ]
  },
  {
   "cell_type": "code",
   "execution_count": 157,
   "metadata": {},
   "outputs": [
    {
     "name": "stdout",
     "output_type": "stream",
     "text": [
      "Win/lose count 0/19.1. Average score (-19.1)\n",
      "Win/lose count 0/18.699999999999996. Average score (-18.9)\n",
      "Win/lose count 0/18.599999999999994. Average score (-18.799999999999997)\n",
      "Win/lose count 0/18.29999999999999. Average score (-18.674999999999997)\n",
      "Win/lose count 0/18.499999999999993. Average score (-18.639999999999997)\n",
      "Win/lose count 0/18.099999999999987. Average score (-18.549999999999997)\n",
      "Win/lose count 0/18.499999999999993. Average score (-18.54285714285714)\n",
      "Win/lose count 0/17.999999999999986. Average score (-18.474999999999994)\n",
      "Win/lose count 0/18.39999999999999. Average score (-18.466666666666658)\n",
      "Win/lose count 0/18.29999999999999. Average score (-18.449999999999992)\n",
      "Win/lose count 0/19.200000000000003. Average score (-18.518181818181812)\n",
      "Win/lose count 0/18.29999999999999. Average score (-18.499999999999993)\n",
      "Win/lose count 0/18.099999999999987. Average score (-18.469230769230762)\n",
      "Win/lose count 0/18.799999999999997. Average score (-18.492857142857137)\n",
      "Win/lose count 0/19.300000000000004. Average score (-18.546666666666663)\n",
      "Win/lose count 0/18.599999999999994. Average score (-18.549999999999997)\n",
      "Win/lose count 0/17.299999999999976. Average score (-18.476470588235287)\n",
      "Win/lose count 0/17.69999999999998. Average score (-18.433333333333326)\n",
      "Win/lose count 0/18.599999999999994. Average score (-18.442105263157888)\n",
      "Win/lose count 0/18.29999999999999. Average score (-18.434999999999995)\n",
      "Final score: -18.434999999999995\n"
     ]
    },
    {
     "data": {
      "text/html": [
       "<video alt=\"test\" controls>\n",
       "                <source src=\"data:video/mp4;base64,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\" type=\"video/mp4\" />\n",
       "             </video>"
      ],
      "text/plain": [
       "<IPython.core.display.HTML object>"
      ]
     },
     "execution_count": 157,
     "metadata": {},
     "output_type": "execute_result"
    }
   ],
   "source": [
    "# Evaluation\n",
    "test(agent,env,epochs_test,prefix='cnn_test_explore')\n",
    "HTML(display_videos('cnn_test_explore10.mp4'))"
   ]
  },
  {
   "cell_type": "markdown",
   "metadata": {},
   "source": [
    "***\n",
    "***\n",
    "__BONUS question__ Use the expert DQN from the previous question to generate some winning games. Train a model that mimicks its behavior. Compare the performances."
   ]
  },
  {
   "cell_type": "markdown",
   "metadata": {},
   "source": []
  },
  {
   "cell_type": "markdown",
   "metadata": {},
   "source": [
    "***"
   ]
  }
 ],
 "metadata": {
  "kernelspec": {
   "display_name": "Python 3",
   "language": "python",
   "name": "python3"
  },
  "language_info": {
   "codemirror_mode": {
    "name": "ipython",
    "version": 3
   },
   "file_extension": ".py",
   "mimetype": "text/x-python",
   "name": "python",
   "nbconvert_exporter": "python",
   "pygments_lexer": "ipython3",
   "version": "3.7.3"
  }
 },
 "nbformat": 4,
 "nbformat_minor": 2
}
